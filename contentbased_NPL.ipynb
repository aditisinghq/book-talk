{
  "nbformat": 4,
  "nbformat_minor": 0,
  "metadata": {
    "colab": {
      "name": "contentbased_NPL.ipynb",
      "provenance": [],
      "collapsed_sections": [],
      "mount_file_id": "1_ge9ajyn_byL3Tkfj1uRiXBTklpXmd3K",
      "authorship_tag": "ABX9TyOT3zZxLmYmFPRlO8XNTRe3",
      "include_colab_link": true
    },
    "kernelspec": {
      "name": "python3",
      "display_name": "Python 3"
    },
    "language_info": {
      "name": "python"
    }
  },
  "cells": [
    {
      "cell_type": "markdown",
      "metadata": {
        "id": "view-in-github",
        "colab_type": "text"
      },
      "source": [
        "<a href=\"https://colab.research.google.com/github/aditisinghq/book-talk/blob/main/contentbased_NPL.ipynb\" target=\"_parent\"><img src=\"https://colab.research.google.com/assets/colab-badge.svg\" alt=\"Open In Colab\"/></a>"
      ]
    },
    {
      "cell_type": "code",
      "metadata": {
        "colab": {
          "base_uri": "https://localhost:8080/"
        },
        "id": "8VTSnUcke3tT",
        "outputId": "325a1fe3-0e5f-487f-cad0-10a2676b41f1"
      },
      "source": [
        "!pip install rake_nltk\n",
        "#rake_nltk is the library i am  using to extract keywords from description!. it has stopwords (by default english ) preloaded"
      ],
      "execution_count": 122,
      "outputs": [
        {
          "output_type": "stream",
          "text": [
            "Requirement already satisfied: rake_nltk in /usr/local/lib/python3.7/dist-packages (1.0.4)\n",
            "Requirement already satisfied: nltk in /usr/local/lib/python3.7/dist-packages (from rake_nltk) (3.2.5)\n",
            "Requirement already satisfied: six in /usr/local/lib/python3.7/dist-packages (from nltk->rake_nltk) (1.15.0)\n"
          ],
          "name": "stdout"
        }
      ]
    },
    {
      "cell_type": "code",
      "metadata": {
        "colab": {
          "base_uri": "https://localhost:8080/"
        },
        "id": "RGC74y_3fAxP",
        "outputId": "4d28ca84-1c23-4335-e4ba-e7ec8a98c2a0"
      },
      "source": [
        "from rake_nltk import Rake\n",
        "import nltk\n",
        "import pandas as pd\n",
        "import numpy as np\n",
        "from sklearn.metrics.pairwise import cosine_similarity\n",
        "from sklearn.feature_extraction.text import CountVectorizer\n",
        "df = pd.read_csv('/content/drive/MyDrive/books7k.csv', engine='python', error_bad_lines=False)\n",
        "df.head()\n",
        "df=df[['isbn10','title','authors','thumbnail','description','categories']]\n",
        "df.dropna(inplace = True)\n",
        "print(df.shape)\n",
        "df.drop_duplicates(subset=['isbn10'])#there aren't any duplicate isbns(there are some anamolies)\n",
        "print(df.shape)\n",
        "df['description'].apply(type).value_counts()\n",
        "import string\n",
        "df['description'] = df['description'].str.replace('[{}]'.format(string.punctuation), '')\n",
        "df['description'].astype(str)\n",
        "df['description'].apply(type).value_counts()\n",
        "\n"
      ],
      "execution_count": 123,
      "outputs": [
        {
          "output_type": "stream",
          "text": [
            "(6247, 6)\n",
            "(6247, 6)\n"
          ],
          "name": "stdout"
        },
        {
          "output_type": "execute_result",
          "data": {
            "text/plain": [
              "<class 'str'>    6247\n",
              "Name: description, dtype: int64"
            ]
          },
          "metadata": {
            "tags": []
          },
          "execution_count": 123
        }
      ]
    },
    {
      "cell_type": "code",
      "metadata": {
        "colab": {
          "base_uri": "https://localhost:8080/",
          "height": 293
        },
        "id": "BDHZDtFy8P-H",
        "outputId": "05dd6006-c0d6-4553-b946-727a79050341"
      },
      "source": [
        "df['Key_words'] = ''\n",
        "r = Rake()\n",
        "for index, row in df.iterrows():\n",
        "  r.extract_keywords_from_text(row['description'])   # to extract key words, default in lower case\n",
        "  key_words_dict_scores = r.get_word_degrees()   \n",
        "  row['Key_words'] = list(key_words_dict_scores.keys())   # to assign list of key words to new column\n",
        "\n",
        "\n",
        "df.head()\n"
      ],
      "execution_count": 124,
      "outputs": [
        {
          "output_type": "execute_result",
          "data": {
            "text/html": [
              "<div>\n",
              "<style scoped>\n",
              "    .dataframe tbody tr th:only-of-type {\n",
              "        vertical-align: middle;\n",
              "    }\n",
              "\n",
              "    .dataframe tbody tr th {\n",
              "        vertical-align: top;\n",
              "    }\n",
              "\n",
              "    .dataframe thead th {\n",
              "        text-align: right;\n",
              "    }\n",
              "</style>\n",
              "<table border=\"1\" class=\"dataframe\">\n",
              "  <thead>\n",
              "    <tr style=\"text-align: right;\">\n",
              "      <th></th>\n",
              "      <th>isbn10</th>\n",
              "      <th>title</th>\n",
              "      <th>authors</th>\n",
              "      <th>thumbnail</th>\n",
              "      <th>description</th>\n",
              "      <th>categories</th>\n",
              "      <th>Key_words</th>\n",
              "    </tr>\n",
              "  </thead>\n",
              "  <tbody>\n",
              "    <tr>\n",
              "      <th>0</th>\n",
              "      <td>0002005883</td>\n",
              "      <td>Gilead</td>\n",
              "      <td>Marilynne Robinson</td>\n",
              "      <td>http://books.google.com/books/content?id=KQZCP...</td>\n",
              "      <td>A NOVEL THAT READERS and critics have been eag...</td>\n",
              "      <td>Fiction</td>\n",
              "      <td>[tale, best, friend, ’, life, style, sons, pit...</td>\n",
              "    </tr>\n",
              "    <tr>\n",
              "      <th>1</th>\n",
              "      <td>0002261987</td>\n",
              "      <td>Spider's Web</td>\n",
              "      <td>Charles Osborne;Agatha Christie</td>\n",
              "      <td>http://books.google.com/books/content?id=gA5GP...</td>\n",
              "      <td>A new Christie for Christmas  a fulllength nov...</td>\n",
              "      <td>Detective and mystery stories</td>\n",
              "      <td>[ones, superb, storytelling, opened, first, dr...</td>\n",
              "    </tr>\n",
              "    <tr>\n",
              "      <th>2</th>\n",
              "      <td>0006163831</td>\n",
              "      <td>The One Tree</td>\n",
              "      <td>Stephen R. Donaldson</td>\n",
              "      <td>http://books.google.com/books/content?id=OmQaw...</td>\n",
              "      <td>Volume Two of Stephen Donaldsons acclaimed sec...</td>\n",
              "      <td>American fiction</td>\n",
              "      <td>[volume, two, stephen, donaldsons, acclaimed, ...</td>\n",
              "    </tr>\n",
              "    <tr>\n",
              "      <th>3</th>\n",
              "      <td>0006178731</td>\n",
              "      <td>Rage of angels</td>\n",
              "      <td>Sidney Sheldon</td>\n",
              "      <td>http://books.google.com/books/content?id=FKo2T...</td>\n",
              "      <td>A memorable mesmerizing heroine Jennifer  bril...</td>\n",
              "      <td>Fiction</td>\n",
              "      <td>[hate, mafias, schemes, win, organized, crime,...</td>\n",
              "    </tr>\n",
              "    <tr>\n",
              "      <th>4</th>\n",
              "      <td>0006280897</td>\n",
              "      <td>The Four Loves</td>\n",
              "      <td>Clive Staples Lewis</td>\n",
              "      <td>http://books.google.com/books/content?id=XhQ5X...</td>\n",
              "      <td>Lewis work on the nature of love divides love ...</td>\n",
              "      <td>Christian life</td>\n",
              "      <td>[natural, loves, become, distorted, without, l...</td>\n",
              "    </tr>\n",
              "  </tbody>\n",
              "</table>\n",
              "</div>"
            ],
            "text/plain": [
              "       isbn10  ...                                          Key_words\n",
              "0  0002005883  ...  [tale, best, friend, ’, life, style, sons, pit...\n",
              "1  0002261987  ...  [ones, superb, storytelling, opened, first, dr...\n",
              "2  0006163831  ...  [volume, two, stephen, donaldsons, acclaimed, ...\n",
              "3  0006178731  ...  [hate, mafias, schemes, win, organized, crime,...\n",
              "4  0006280897  ...  [natural, loves, become, distorted, without, l...\n",
              "\n",
              "[5 rows x 7 columns]"
            ]
          },
          "metadata": {
            "tags": []
          },
          "execution_count": 124
        }
      ]
    },
    {
      "cell_type": "code",
      "metadata": {
        "colab": {
          "base_uri": "https://localhost:8080/",
          "height": 293
        },
        "id": "wX2DsaGD-jeX",
        "outputId": "8b65b444-d927-4daa-b059-412073d1952c"
      },
      "source": [
        "#adding the categories i.e. genres to keywords as well so that similar genre books can be selected\n",
        "df['categories']= df['categories'].apply(lambda x:x.split())\n",
        "df['categories'].astype(str)\n",
        "df['Key_words']=df['categories']+df['Key_words']\n",
        "df.head()\n"
      ],
      "execution_count": 125,
      "outputs": [
        {
          "output_type": "execute_result",
          "data": {
            "text/html": [
              "<div>\n",
              "<style scoped>\n",
              "    .dataframe tbody tr th:only-of-type {\n",
              "        vertical-align: middle;\n",
              "    }\n",
              "\n",
              "    .dataframe tbody tr th {\n",
              "        vertical-align: top;\n",
              "    }\n",
              "\n",
              "    .dataframe thead th {\n",
              "        text-align: right;\n",
              "    }\n",
              "</style>\n",
              "<table border=\"1\" class=\"dataframe\">\n",
              "  <thead>\n",
              "    <tr style=\"text-align: right;\">\n",
              "      <th></th>\n",
              "      <th>isbn10</th>\n",
              "      <th>title</th>\n",
              "      <th>authors</th>\n",
              "      <th>thumbnail</th>\n",
              "      <th>description</th>\n",
              "      <th>categories</th>\n",
              "      <th>Key_words</th>\n",
              "    </tr>\n",
              "  </thead>\n",
              "  <tbody>\n",
              "    <tr>\n",
              "      <th>0</th>\n",
              "      <td>0002005883</td>\n",
              "      <td>Gilead</td>\n",
              "      <td>Marilynne Robinson</td>\n",
              "      <td>http://books.google.com/books/content?id=KQZCP...</td>\n",
              "      <td>A NOVEL THAT READERS and critics have been eag...</td>\n",
              "      <td>[Fiction]</td>\n",
              "      <td>[Fiction, tale, best, friend, ’, life, style, ...</td>\n",
              "    </tr>\n",
              "    <tr>\n",
              "      <th>1</th>\n",
              "      <td>0002261987</td>\n",
              "      <td>Spider's Web</td>\n",
              "      <td>Charles Osborne;Agatha Christie</td>\n",
              "      <td>http://books.google.com/books/content?id=gA5GP...</td>\n",
              "      <td>A new Christie for Christmas  a fulllength nov...</td>\n",
              "      <td>[Detective, and, mystery, stories]</td>\n",
              "      <td>[Detective, and, mystery, stories, ones, super...</td>\n",
              "    </tr>\n",
              "    <tr>\n",
              "      <th>2</th>\n",
              "      <td>0006163831</td>\n",
              "      <td>The One Tree</td>\n",
              "      <td>Stephen R. Donaldson</td>\n",
              "      <td>http://books.google.com/books/content?id=OmQaw...</td>\n",
              "      <td>Volume Two of Stephen Donaldsons acclaimed sec...</td>\n",
              "      <td>[American, fiction]</td>\n",
              "      <td>[American, fiction, volume, two, stephen, dona...</td>\n",
              "    </tr>\n",
              "    <tr>\n",
              "      <th>3</th>\n",
              "      <td>0006178731</td>\n",
              "      <td>Rage of angels</td>\n",
              "      <td>Sidney Sheldon</td>\n",
              "      <td>http://books.google.com/books/content?id=FKo2T...</td>\n",
              "      <td>A memorable mesmerizing heroine Jennifer  bril...</td>\n",
              "      <td>[Fiction]</td>\n",
              "      <td>[Fiction, hate, mafias, schemes, win, organize...</td>\n",
              "    </tr>\n",
              "    <tr>\n",
              "      <th>4</th>\n",
              "      <td>0006280897</td>\n",
              "      <td>The Four Loves</td>\n",
              "      <td>Clive Staples Lewis</td>\n",
              "      <td>http://books.google.com/books/content?id=XhQ5X...</td>\n",
              "      <td>Lewis work on the nature of love divides love ...</td>\n",
              "      <td>[Christian, life]</td>\n",
              "      <td>[Christian, life, natural, loves, become, dist...</td>\n",
              "    </tr>\n",
              "  </tbody>\n",
              "</table>\n",
              "</div>"
            ],
            "text/plain": [
              "       isbn10  ...                                          Key_words\n",
              "0  0002005883  ...  [Fiction, tale, best, friend, ’, life, style, ...\n",
              "1  0002261987  ...  [Detective, and, mystery, stories, ones, super...\n",
              "2  0006163831  ...  [American, fiction, volume, two, stephen, dona...\n",
              "3  0006178731  ...  [Fiction, hate, mafias, schemes, win, organize...\n",
              "4  0006280897  ...  [Christian, life, natural, loves, become, dist...\n",
              "\n",
              "[5 rows x 7 columns]"
            ]
          },
          "metadata": {
            "tags": []
          },
          "execution_count": 125
        }
      ]
    },
    {
      "cell_type": "code",
      "metadata": {
        "id": "37Tru15gLwYs"
      },
      "source": [
        ""
      ],
      "execution_count": 125,
      "outputs": []
    },
    {
      "cell_type": "markdown",
      "metadata": {
        "id": "-_mjDf0nLvAa"
      },
      "source": [
        "**making authors names into keywords as well, each author's name will be merged(firstnamelastname) and added as a separate keyword. **"
      ]
    },
    {
      "cell_type": "code",
      "metadata": {
        "id": "t3Ip3ZnoNwir"
      },
      "source": [
        "df['authors']= df['authors'].apply(lambda x:x.lower().replace(' ',''))"
      ],
      "execution_count": 126,
      "outputs": []
    },
    {
      "cell_type": "code",
      "metadata": {
        "colab": {
          "base_uri": "https://localhost:8080/",
          "height": 293
        },
        "id": "u8yb4tLpOSrZ",
        "outputId": "0b9fe98f-9118-4e1f-e56f-7a93db477705"
      },
      "source": [
        "df.head()"
      ],
      "execution_count": 127,
      "outputs": [
        {
          "output_type": "execute_result",
          "data": {
            "text/html": [
              "<div>\n",
              "<style scoped>\n",
              "    .dataframe tbody tr th:only-of-type {\n",
              "        vertical-align: middle;\n",
              "    }\n",
              "\n",
              "    .dataframe tbody tr th {\n",
              "        vertical-align: top;\n",
              "    }\n",
              "\n",
              "    .dataframe thead th {\n",
              "        text-align: right;\n",
              "    }\n",
              "</style>\n",
              "<table border=\"1\" class=\"dataframe\">\n",
              "  <thead>\n",
              "    <tr style=\"text-align: right;\">\n",
              "      <th></th>\n",
              "      <th>isbn10</th>\n",
              "      <th>title</th>\n",
              "      <th>authors</th>\n",
              "      <th>thumbnail</th>\n",
              "      <th>description</th>\n",
              "      <th>categories</th>\n",
              "      <th>Key_words</th>\n",
              "    </tr>\n",
              "  </thead>\n",
              "  <tbody>\n",
              "    <tr>\n",
              "      <th>0</th>\n",
              "      <td>0002005883</td>\n",
              "      <td>Gilead</td>\n",
              "      <td>marilynnerobinson</td>\n",
              "      <td>http://books.google.com/books/content?id=KQZCP...</td>\n",
              "      <td>A NOVEL THAT READERS and critics have been eag...</td>\n",
              "      <td>[Fiction]</td>\n",
              "      <td>[Fiction, tale, best, friend, ’, life, style, ...</td>\n",
              "    </tr>\n",
              "    <tr>\n",
              "      <th>1</th>\n",
              "      <td>0002261987</td>\n",
              "      <td>Spider's Web</td>\n",
              "      <td>charlesosborne;agathachristie</td>\n",
              "      <td>http://books.google.com/books/content?id=gA5GP...</td>\n",
              "      <td>A new Christie for Christmas  a fulllength nov...</td>\n",
              "      <td>[Detective, and, mystery, stories]</td>\n",
              "      <td>[Detective, and, mystery, stories, ones, super...</td>\n",
              "    </tr>\n",
              "    <tr>\n",
              "      <th>2</th>\n",
              "      <td>0006163831</td>\n",
              "      <td>The One Tree</td>\n",
              "      <td>stephenr.donaldson</td>\n",
              "      <td>http://books.google.com/books/content?id=OmQaw...</td>\n",
              "      <td>Volume Two of Stephen Donaldsons acclaimed sec...</td>\n",
              "      <td>[American, fiction]</td>\n",
              "      <td>[American, fiction, volume, two, stephen, dona...</td>\n",
              "    </tr>\n",
              "    <tr>\n",
              "      <th>3</th>\n",
              "      <td>0006178731</td>\n",
              "      <td>Rage of angels</td>\n",
              "      <td>sidneysheldon</td>\n",
              "      <td>http://books.google.com/books/content?id=FKo2T...</td>\n",
              "      <td>A memorable mesmerizing heroine Jennifer  bril...</td>\n",
              "      <td>[Fiction]</td>\n",
              "      <td>[Fiction, hate, mafias, schemes, win, organize...</td>\n",
              "    </tr>\n",
              "    <tr>\n",
              "      <th>4</th>\n",
              "      <td>0006280897</td>\n",
              "      <td>The Four Loves</td>\n",
              "      <td>clivestapleslewis</td>\n",
              "      <td>http://books.google.com/books/content?id=XhQ5X...</td>\n",
              "      <td>Lewis work on the nature of love divides love ...</td>\n",
              "      <td>[Christian, life]</td>\n",
              "      <td>[Christian, life, natural, loves, become, dist...</td>\n",
              "    </tr>\n",
              "  </tbody>\n",
              "</table>\n",
              "</div>"
            ],
            "text/plain": [
              "       isbn10  ...                                          Key_words\n",
              "0  0002005883  ...  [Fiction, tale, best, friend, ’, life, style, ...\n",
              "1  0002261987  ...  [Detective, and, mystery, stories, ones, super...\n",
              "2  0006163831  ...  [American, fiction, volume, two, stephen, dona...\n",
              "3  0006178731  ...  [Fiction, hate, mafias, schemes, win, organize...\n",
              "4  0006280897  ...  [Christian, life, natural, loves, become, dist...\n",
              "\n",
              "[5 rows x 7 columns]"
            ]
          },
          "metadata": {
            "tags": []
          },
          "execution_count": 127
        }
      ]
    },
    {
      "cell_type": "code",
      "metadata": {
        "colab": {
          "base_uri": "https://localhost:8080/",
          "height": 293
        },
        "id": "WdTy_ESlOUgU",
        "outputId": "79f643e9-8120-4130-fa87-9f751990aa85"
      },
      "source": [
        "df['authors']= df['authors'].apply(lambda x:x.lower().replace(';',' '))\n",
        "df.head()"
      ],
      "execution_count": 128,
      "outputs": [
        {
          "output_type": "execute_result",
          "data": {
            "text/html": [
              "<div>\n",
              "<style scoped>\n",
              "    .dataframe tbody tr th:only-of-type {\n",
              "        vertical-align: middle;\n",
              "    }\n",
              "\n",
              "    .dataframe tbody tr th {\n",
              "        vertical-align: top;\n",
              "    }\n",
              "\n",
              "    .dataframe thead th {\n",
              "        text-align: right;\n",
              "    }\n",
              "</style>\n",
              "<table border=\"1\" class=\"dataframe\">\n",
              "  <thead>\n",
              "    <tr style=\"text-align: right;\">\n",
              "      <th></th>\n",
              "      <th>isbn10</th>\n",
              "      <th>title</th>\n",
              "      <th>authors</th>\n",
              "      <th>thumbnail</th>\n",
              "      <th>description</th>\n",
              "      <th>categories</th>\n",
              "      <th>Key_words</th>\n",
              "    </tr>\n",
              "  </thead>\n",
              "  <tbody>\n",
              "    <tr>\n",
              "      <th>0</th>\n",
              "      <td>0002005883</td>\n",
              "      <td>Gilead</td>\n",
              "      <td>marilynnerobinson</td>\n",
              "      <td>http://books.google.com/books/content?id=KQZCP...</td>\n",
              "      <td>A NOVEL THAT READERS and critics have been eag...</td>\n",
              "      <td>[Fiction]</td>\n",
              "      <td>[Fiction, tale, best, friend, ’, life, style, ...</td>\n",
              "    </tr>\n",
              "    <tr>\n",
              "      <th>1</th>\n",
              "      <td>0002261987</td>\n",
              "      <td>Spider's Web</td>\n",
              "      <td>charlesosborne agathachristie</td>\n",
              "      <td>http://books.google.com/books/content?id=gA5GP...</td>\n",
              "      <td>A new Christie for Christmas  a fulllength nov...</td>\n",
              "      <td>[Detective, and, mystery, stories]</td>\n",
              "      <td>[Detective, and, mystery, stories, ones, super...</td>\n",
              "    </tr>\n",
              "    <tr>\n",
              "      <th>2</th>\n",
              "      <td>0006163831</td>\n",
              "      <td>The One Tree</td>\n",
              "      <td>stephenr.donaldson</td>\n",
              "      <td>http://books.google.com/books/content?id=OmQaw...</td>\n",
              "      <td>Volume Two of Stephen Donaldsons acclaimed sec...</td>\n",
              "      <td>[American, fiction]</td>\n",
              "      <td>[American, fiction, volume, two, stephen, dona...</td>\n",
              "    </tr>\n",
              "    <tr>\n",
              "      <th>3</th>\n",
              "      <td>0006178731</td>\n",
              "      <td>Rage of angels</td>\n",
              "      <td>sidneysheldon</td>\n",
              "      <td>http://books.google.com/books/content?id=FKo2T...</td>\n",
              "      <td>A memorable mesmerizing heroine Jennifer  bril...</td>\n",
              "      <td>[Fiction]</td>\n",
              "      <td>[Fiction, hate, mafias, schemes, win, organize...</td>\n",
              "    </tr>\n",
              "    <tr>\n",
              "      <th>4</th>\n",
              "      <td>0006280897</td>\n",
              "      <td>The Four Loves</td>\n",
              "      <td>clivestapleslewis</td>\n",
              "      <td>http://books.google.com/books/content?id=XhQ5X...</td>\n",
              "      <td>Lewis work on the nature of love divides love ...</td>\n",
              "      <td>[Christian, life]</td>\n",
              "      <td>[Christian, life, natural, loves, become, dist...</td>\n",
              "    </tr>\n",
              "  </tbody>\n",
              "</table>\n",
              "</div>"
            ],
            "text/plain": [
              "       isbn10  ...                                          Key_words\n",
              "0  0002005883  ...  [Fiction, tale, best, friend, ’, life, style, ...\n",
              "1  0002261987  ...  [Detective, and, mystery, stories, ones, super...\n",
              "2  0006163831  ...  [American, fiction, volume, two, stephen, dona...\n",
              "3  0006178731  ...  [Fiction, hate, mafias, schemes, win, organize...\n",
              "4  0006280897  ...  [Christian, life, natural, loves, become, dist...\n",
              "\n",
              "[5 rows x 7 columns]"
            ]
          },
          "metadata": {
            "tags": []
          },
          "execution_count": 128
        }
      ]
    },
    {
      "cell_type": "code",
      "metadata": {
        "colab": {
          "base_uri": "https://localhost:8080/",
          "height": 597
        },
        "id": "tYPG1mYlOcb4",
        "outputId": "18334686-16d4-483f-b25c-050801858598"
      },
      "source": [
        "df"
      ],
      "execution_count": 129,
      "outputs": [
        {
          "output_type": "execute_result",
          "data": {
            "text/html": [
              "<div>\n",
              "<style scoped>\n",
              "    .dataframe tbody tr th:only-of-type {\n",
              "        vertical-align: middle;\n",
              "    }\n",
              "\n",
              "    .dataframe tbody tr th {\n",
              "        vertical-align: top;\n",
              "    }\n",
              "\n",
              "    .dataframe thead th {\n",
              "        text-align: right;\n",
              "    }\n",
              "</style>\n",
              "<table border=\"1\" class=\"dataframe\">\n",
              "  <thead>\n",
              "    <tr style=\"text-align: right;\">\n",
              "      <th></th>\n",
              "      <th>isbn10</th>\n",
              "      <th>title</th>\n",
              "      <th>authors</th>\n",
              "      <th>thumbnail</th>\n",
              "      <th>description</th>\n",
              "      <th>categories</th>\n",
              "      <th>Key_words</th>\n",
              "    </tr>\n",
              "  </thead>\n",
              "  <tbody>\n",
              "    <tr>\n",
              "      <th>0</th>\n",
              "      <td>0002005883</td>\n",
              "      <td>Gilead</td>\n",
              "      <td>marilynnerobinson</td>\n",
              "      <td>http://books.google.com/books/content?id=KQZCP...</td>\n",
              "      <td>A NOVEL THAT READERS and critics have been eag...</td>\n",
              "      <td>[Fiction]</td>\n",
              "      <td>[Fiction, tale, best, friend, ’, life, style, ...</td>\n",
              "    </tr>\n",
              "    <tr>\n",
              "      <th>1</th>\n",
              "      <td>0002261987</td>\n",
              "      <td>Spider's Web</td>\n",
              "      <td>charlesosborne agathachristie</td>\n",
              "      <td>http://books.google.com/books/content?id=gA5GP...</td>\n",
              "      <td>A new Christie for Christmas  a fulllength nov...</td>\n",
              "      <td>[Detective, and, mystery, stories]</td>\n",
              "      <td>[Detective, and, mystery, stories, ones, super...</td>\n",
              "    </tr>\n",
              "    <tr>\n",
              "      <th>2</th>\n",
              "      <td>0006163831</td>\n",
              "      <td>The One Tree</td>\n",
              "      <td>stephenr.donaldson</td>\n",
              "      <td>http://books.google.com/books/content?id=OmQaw...</td>\n",
              "      <td>Volume Two of Stephen Donaldsons acclaimed sec...</td>\n",
              "      <td>[American, fiction]</td>\n",
              "      <td>[American, fiction, volume, two, stephen, dona...</td>\n",
              "    </tr>\n",
              "    <tr>\n",
              "      <th>3</th>\n",
              "      <td>0006178731</td>\n",
              "      <td>Rage of angels</td>\n",
              "      <td>sidneysheldon</td>\n",
              "      <td>http://books.google.com/books/content?id=FKo2T...</td>\n",
              "      <td>A memorable mesmerizing heroine Jennifer  bril...</td>\n",
              "      <td>[Fiction]</td>\n",
              "      <td>[Fiction, hate, mafias, schemes, win, organize...</td>\n",
              "    </tr>\n",
              "    <tr>\n",
              "      <th>4</th>\n",
              "      <td>0006280897</td>\n",
              "      <td>The Four Loves</td>\n",
              "      <td>clivestapleslewis</td>\n",
              "      <td>http://books.google.com/books/content?id=XhQ5X...</td>\n",
              "      <td>Lewis work on the nature of love divides love ...</td>\n",
              "      <td>[Christian, life]</td>\n",
              "      <td>[Christian, life, natural, loves, become, dist...</td>\n",
              "    </tr>\n",
              "    <tr>\n",
              "      <th>...</th>\n",
              "      <td>...</td>\n",
              "      <td>...</td>\n",
              "      <td>...</td>\n",
              "      <td>...</td>\n",
              "      <td>...</td>\n",
              "      <td>...</td>\n",
              "      <td>...</td>\n",
              "    </tr>\n",
              "    <tr>\n",
              "      <th>6803</th>\n",
              "      <td>8173031010</td>\n",
              "      <td>Journey to the East</td>\n",
              "      <td>hermannhesse</td>\n",
              "      <td>http://books.google.com/books/content?id=rq6JP...</td>\n",
              "      <td>This book tells the tale of a man who goes on ...</td>\n",
              "      <td>[Adventure, stories]</td>\n",
              "      <td>[Adventure, stories, tale, 1932, enlightenment...</td>\n",
              "    </tr>\n",
              "    <tr>\n",
              "      <th>6804</th>\n",
              "      <td>817992162X</td>\n",
              "      <td>The Monk Who Sold His Ferrari: A Fable About F...</td>\n",
              "      <td>robinsharma</td>\n",
              "      <td>http://books.google.com/books/content?id=c_7mf...</td>\n",
              "      <td>Wisdom to Create a Life of Passion Purpose and...</td>\n",
              "      <td>[Health, &amp;, Fitness]</td>\n",
              "      <td>[Health, &amp;, Fitness, wisdom, confront, peace, ...</td>\n",
              "    </tr>\n",
              "    <tr>\n",
              "      <th>6805</th>\n",
              "      <td>8185300534</td>\n",
              "      <td>I Am that</td>\n",
              "      <td>srinisargadattamaharaj sudhakars.dikshit</td>\n",
              "      <td>http://books.google.com/books/content?id=Fv_JP...</td>\n",
              "      <td>This collection of the timeless teachings of o...</td>\n",
              "      <td>[Philosophy]</td>\n",
              "      <td>[Philosophy, helps, suffering, unique, teacher...</td>\n",
              "    </tr>\n",
              "    <tr>\n",
              "      <th>6808</th>\n",
              "      <td>9027712050</td>\n",
              "      <td>The Berlin Phenomenology</td>\n",
              "      <td>georgwilhelmfriedrichhegel</td>\n",
              "      <td>http://books.google.com/books/content?id=Vy7Sk...</td>\n",
              "      <td>Since the three volume edition ofHegels Philos...</td>\n",
              "      <td>[History]</td>\n",
              "      <td>[History, logical, thoroughly, reliable, ba, s...</td>\n",
              "    </tr>\n",
              "    <tr>\n",
              "      <th>6809</th>\n",
              "      <td>9042003405</td>\n",
              "      <td>'I'm Telling You Stories'</td>\n",
              "      <td>helenagrice timwoods</td>\n",
              "      <td>http://books.google.com/books/content?id=2lVyR...</td>\n",
              "      <td>This is a jubilant and rewarding collection of...</td>\n",
              "      <td>[Literary, Criticism]</td>\n",
              "      <td>[Literary, Criticism, host, rewarding, collect...</td>\n",
              "    </tr>\n",
              "  </tbody>\n",
              "</table>\n",
              "<p>6247 rows × 7 columns</p>\n",
              "</div>"
            ],
            "text/plain": [
              "          isbn10  ...                                          Key_words\n",
              "0     0002005883  ...  [Fiction, tale, best, friend, ’, life, style, ...\n",
              "1     0002261987  ...  [Detective, and, mystery, stories, ones, super...\n",
              "2     0006163831  ...  [American, fiction, volume, two, stephen, dona...\n",
              "3     0006178731  ...  [Fiction, hate, mafias, schemes, win, organize...\n",
              "4     0006280897  ...  [Christian, life, natural, loves, become, dist...\n",
              "...          ...  ...                                                ...\n",
              "6803  8173031010  ...  [Adventure, stories, tale, 1932, enlightenment...\n",
              "6804  817992162X  ...  [Health, &, Fitness, wisdom, confront, peace, ...\n",
              "6805  8185300534  ...  [Philosophy, helps, suffering, unique, teacher...\n",
              "6808  9027712050  ...  [History, logical, thoroughly, reliable, ba, s...\n",
              "6809  9042003405  ...  [Literary, Criticism, host, rewarding, collect...\n",
              "\n",
              "[6247 rows x 7 columns]"
            ]
          },
          "metadata": {
            "tags": []
          },
          "execution_count": 129
        }
      ]
    },
    {
      "cell_type": "code",
      "metadata": {
        "colab": {
          "base_uri": "https://localhost:8080/",
          "height": 293
        },
        "id": "nRYYA1QYOe2z",
        "outputId": "449ccc80-6080-4bb2-f146-64ab387334d7"
      },
      "source": [
        "df['authors']= df['authors'].apply(lambda x:x.split())\n",
        "df['authors'].astype(str)\n",
        "df['Key_words']=df['authors']+df['Key_words']\n",
        "df.head()\n"
      ],
      "execution_count": 130,
      "outputs": [
        {
          "output_type": "execute_result",
          "data": {
            "text/html": [
              "<div>\n",
              "<style scoped>\n",
              "    .dataframe tbody tr th:only-of-type {\n",
              "        vertical-align: middle;\n",
              "    }\n",
              "\n",
              "    .dataframe tbody tr th {\n",
              "        vertical-align: top;\n",
              "    }\n",
              "\n",
              "    .dataframe thead th {\n",
              "        text-align: right;\n",
              "    }\n",
              "</style>\n",
              "<table border=\"1\" class=\"dataframe\">\n",
              "  <thead>\n",
              "    <tr style=\"text-align: right;\">\n",
              "      <th></th>\n",
              "      <th>isbn10</th>\n",
              "      <th>title</th>\n",
              "      <th>authors</th>\n",
              "      <th>thumbnail</th>\n",
              "      <th>description</th>\n",
              "      <th>categories</th>\n",
              "      <th>Key_words</th>\n",
              "    </tr>\n",
              "  </thead>\n",
              "  <tbody>\n",
              "    <tr>\n",
              "      <th>0</th>\n",
              "      <td>0002005883</td>\n",
              "      <td>Gilead</td>\n",
              "      <td>[marilynnerobinson]</td>\n",
              "      <td>http://books.google.com/books/content?id=KQZCP...</td>\n",
              "      <td>A NOVEL THAT READERS and critics have been eag...</td>\n",
              "      <td>[Fiction]</td>\n",
              "      <td>[marilynnerobinson, Fiction, tale, best, frien...</td>\n",
              "    </tr>\n",
              "    <tr>\n",
              "      <th>1</th>\n",
              "      <td>0002261987</td>\n",
              "      <td>Spider's Web</td>\n",
              "      <td>[charlesosborne, agathachristie]</td>\n",
              "      <td>http://books.google.com/books/content?id=gA5GP...</td>\n",
              "      <td>A new Christie for Christmas  a fulllength nov...</td>\n",
              "      <td>[Detective, and, mystery, stories]</td>\n",
              "      <td>[charlesosborne, agathachristie, Detective, an...</td>\n",
              "    </tr>\n",
              "    <tr>\n",
              "      <th>2</th>\n",
              "      <td>0006163831</td>\n",
              "      <td>The One Tree</td>\n",
              "      <td>[stephenr.donaldson]</td>\n",
              "      <td>http://books.google.com/books/content?id=OmQaw...</td>\n",
              "      <td>Volume Two of Stephen Donaldsons acclaimed sec...</td>\n",
              "      <td>[American, fiction]</td>\n",
              "      <td>[stephenr.donaldson, American, fiction, volume...</td>\n",
              "    </tr>\n",
              "    <tr>\n",
              "      <th>3</th>\n",
              "      <td>0006178731</td>\n",
              "      <td>Rage of angels</td>\n",
              "      <td>[sidneysheldon]</td>\n",
              "      <td>http://books.google.com/books/content?id=FKo2T...</td>\n",
              "      <td>A memorable mesmerizing heroine Jennifer  bril...</td>\n",
              "      <td>[Fiction]</td>\n",
              "      <td>[sidneysheldon, Fiction, hate, mafias, schemes...</td>\n",
              "    </tr>\n",
              "    <tr>\n",
              "      <th>4</th>\n",
              "      <td>0006280897</td>\n",
              "      <td>The Four Loves</td>\n",
              "      <td>[clivestapleslewis]</td>\n",
              "      <td>http://books.google.com/books/content?id=XhQ5X...</td>\n",
              "      <td>Lewis work on the nature of love divides love ...</td>\n",
              "      <td>[Christian, life]</td>\n",
              "      <td>[clivestapleslewis, Christian, life, natural, ...</td>\n",
              "    </tr>\n",
              "  </tbody>\n",
              "</table>\n",
              "</div>"
            ],
            "text/plain": [
              "       isbn10  ...                                          Key_words\n",
              "0  0002005883  ...  [marilynnerobinson, Fiction, tale, best, frien...\n",
              "1  0002261987  ...  [charlesosborne, agathachristie, Detective, an...\n",
              "2  0006163831  ...  [stephenr.donaldson, American, fiction, volume...\n",
              "3  0006178731  ...  [sidneysheldon, Fiction, hate, mafias, schemes...\n",
              "4  0006280897  ...  [clivestapleslewis, Christian, life, natural, ...\n",
              "\n",
              "[5 rows x 7 columns]"
            ]
          },
          "metadata": {
            "tags": []
          },
          "execution_count": 130
        }
      ]
    },
    {
      "cell_type": "code",
      "metadata": {
        "id": "qtZQH561Qi9C"
      },
      "source": [
        "#creating the bag of words which is used by the rake function to get vectors\n",
        "df['Bag_of_words'] = ''\n",
        "for index, row in df.iterrows():\n",
        "    words = ''\n",
        "    words += ' '.join(row['Key_words']) + ' '\n",
        "    row['Bag_of_words'] = words\n",
        "df['Bag_of_words'] = df['Bag_of_words'].str.strip().str.replace('   ', ' ').str.replace('  ', ' ')\n"
      ],
      "execution_count": 131,
      "outputs": []
    },
    {
      "cell_type": "code",
      "metadata": {
        "colab": {
          "base_uri": "https://localhost:8080/",
          "height": 391
        },
        "id": "Dl_quUkSSyos",
        "outputId": "1a7da1e0-c456-4fcf-f7ad-b940eb29b449"
      },
      "source": [
        "df.head(7)"
      ],
      "execution_count": 132,
      "outputs": [
        {
          "output_type": "execute_result",
          "data": {
            "text/html": [
              "<div>\n",
              "<style scoped>\n",
              "    .dataframe tbody tr th:only-of-type {\n",
              "        vertical-align: middle;\n",
              "    }\n",
              "\n",
              "    .dataframe tbody tr th {\n",
              "        vertical-align: top;\n",
              "    }\n",
              "\n",
              "    .dataframe thead th {\n",
              "        text-align: right;\n",
              "    }\n",
              "</style>\n",
              "<table border=\"1\" class=\"dataframe\">\n",
              "  <thead>\n",
              "    <tr style=\"text-align: right;\">\n",
              "      <th></th>\n",
              "      <th>isbn10</th>\n",
              "      <th>title</th>\n",
              "      <th>authors</th>\n",
              "      <th>thumbnail</th>\n",
              "      <th>description</th>\n",
              "      <th>categories</th>\n",
              "      <th>Key_words</th>\n",
              "      <th>Bag_of_words</th>\n",
              "    </tr>\n",
              "  </thead>\n",
              "  <tbody>\n",
              "    <tr>\n",
              "      <th>0</th>\n",
              "      <td>0002005883</td>\n",
              "      <td>Gilead</td>\n",
              "      <td>[marilynnerobinson]</td>\n",
              "      <td>http://books.google.com/books/content?id=KQZCP...</td>\n",
              "      <td>A NOVEL THAT READERS and critics have been eag...</td>\n",
              "      <td>[Fiction]</td>\n",
              "      <td>[marilynnerobinson, Fiction, tale, best, frien...</td>\n",
              "      <td>marilynnerobinson Fiction tale best friend ’ l...</td>\n",
              "    </tr>\n",
              "    <tr>\n",
              "      <th>1</th>\n",
              "      <td>0002261987</td>\n",
              "      <td>Spider's Web</td>\n",
              "      <td>[charlesosborne, agathachristie]</td>\n",
              "      <td>http://books.google.com/books/content?id=gA5GP...</td>\n",
              "      <td>A new Christie for Christmas  a fulllength nov...</td>\n",
              "      <td>[Detective, and, mystery, stories]</td>\n",
              "      <td>[charlesosborne, agathachristie, Detective, an...</td>\n",
              "      <td>charlesosborne agathachristie Detective and my...</td>\n",
              "    </tr>\n",
              "    <tr>\n",
              "      <th>2</th>\n",
              "      <td>0006163831</td>\n",
              "      <td>The One Tree</td>\n",
              "      <td>[stephenr.donaldson]</td>\n",
              "      <td>http://books.google.com/books/content?id=OmQaw...</td>\n",
              "      <td>Volume Two of Stephen Donaldsons acclaimed sec...</td>\n",
              "      <td>[American, fiction]</td>\n",
              "      <td>[stephenr.donaldson, American, fiction, volume...</td>\n",
              "      <td>stephenr.donaldson American fiction volume two...</td>\n",
              "    </tr>\n",
              "    <tr>\n",
              "      <th>3</th>\n",
              "      <td>0006178731</td>\n",
              "      <td>Rage of angels</td>\n",
              "      <td>[sidneysheldon]</td>\n",
              "      <td>http://books.google.com/books/content?id=FKo2T...</td>\n",
              "      <td>A memorable mesmerizing heroine Jennifer  bril...</td>\n",
              "      <td>[Fiction]</td>\n",
              "      <td>[sidneysheldon, Fiction, hate, mafias, schemes...</td>\n",
              "      <td>sidneysheldon Fiction hate mafias schemes win ...</td>\n",
              "    </tr>\n",
              "    <tr>\n",
              "      <th>4</th>\n",
              "      <td>0006280897</td>\n",
              "      <td>The Four Loves</td>\n",
              "      <td>[clivestapleslewis]</td>\n",
              "      <td>http://books.google.com/books/content?id=XhQ5X...</td>\n",
              "      <td>Lewis work on the nature of love divides love ...</td>\n",
              "      <td>[Christian, life]</td>\n",
              "      <td>[clivestapleslewis, Christian, life, natural, ...</td>\n",
              "      <td>clivestapleslewis Christian life natural loves...</td>\n",
              "    </tr>\n",
              "    <tr>\n",
              "      <th>5</th>\n",
              "      <td>0006280935</td>\n",
              "      <td>The Problem of Pain</td>\n",
              "      <td>[clivestapleslewis]</td>\n",
              "      <td>http://books.google.com/books/content?id=Kk-uV...</td>\n",
              "      <td>In The Problem of Pain CS Lewis one of the mos...</td>\n",
              "      <td>[Christian, life]</td>\n",
              "      <td>[clivestapleslewis, Christian, life, renowned,...</td>\n",
              "      <td>clivestapleslewis Christian life renowned chri...</td>\n",
              "    </tr>\n",
              "    <tr>\n",
              "      <th>6</th>\n",
              "      <td>0006353282</td>\n",
              "      <td>An Autobiography</td>\n",
              "      <td>[agathachristie]</td>\n",
              "      <td>http://books.google.com/books/content?id=c49GQ...</td>\n",
              "      <td>Donation</td>\n",
              "      <td>[Authors,, English]</td>\n",
              "      <td>[agathachristie, Authors,, English, donation]</td>\n",
              "      <td>agathachristie Authors, English donation</td>\n",
              "    </tr>\n",
              "  </tbody>\n",
              "</table>\n",
              "</div>"
            ],
            "text/plain": [
              "       isbn10  ...                                       Bag_of_words\n",
              "0  0002005883  ...  marilynnerobinson Fiction tale best friend ’ l...\n",
              "1  0002261987  ...  charlesosborne agathachristie Detective and my...\n",
              "2  0006163831  ...  stephenr.donaldson American fiction volume two...\n",
              "3  0006178731  ...  sidneysheldon Fiction hate mafias schemes win ...\n",
              "4  0006280897  ...  clivestapleslewis Christian life natural loves...\n",
              "5  0006280935  ...  clivestapleslewis Christian life renowned chri...\n",
              "6  0006353282  ...           agathachristie Authors, English donation\n",
              "\n",
              "[7 rows x 8 columns]"
            ]
          },
          "metadata": {
            "tags": []
          },
          "execution_count": 132
        }
      ]
    },
    {
      "cell_type": "code",
      "metadata": {
        "colab": {
          "base_uri": "https://localhost:8080/",
          "height": 53
        },
        "id": "xdP_Gu3YS5HE",
        "outputId": "1e44f329-1ee3-4a9c-e977-491283deb1ac"
      },
      "source": [
        "#trial\n",
        "df['Bag_of_words'][3]\n"
      ],
      "execution_count": 133,
      "outputs": [
        {
          "output_type": "execute_result",
          "data": {
            "application/vnd.google.colaboratory.intrinsic+json": {
              "type": "string"
            },
            "text/plain": [
              "'sidneysheldon Fiction hate mafias schemes win organized crime dangerous dramatic world implacable enemy love flashbulb lit courtrooms ambitious prosecutors begin way hatred destructive memorable mesmerizing heroine jennifer brilliant beautiful climb dark arena political power attorney'"
            ]
          },
          "metadata": {
            "tags": []
          },
          "execution_count": 133
        }
      ]
    },
    {
      "cell_type": "code",
      "metadata": {
        "id": "muzr5OxSDSYz"
      },
      "source": [
        "df=df.reset_index()"
      ],
      "execution_count": 134,
      "outputs": []
    },
    {
      "cell_type": "code",
      "metadata": {
        "colab": {
          "base_uri": "https://localhost:8080/"
        },
        "id": "iZAb609dP8VB",
        "outputId": "eefa1166-d32b-49c0-d250-40a6dbe76dd2"
      },
      "source": [
        "count = CountVectorizer()\n",
        "count_matrix = count.fit_transform(df['Bag_of_words'])\n",
        "count_matrix\n"
      ],
      "execution_count": 135,
      "outputs": [
        {
          "output_type": "execute_result",
          "data": {
            "text/plain": [
              "<6247x38388 sparse matrix of type '<class 'numpy.int64'>'\n",
              "\twith 237350 stored elements in Compressed Sparse Row format>"
            ]
          },
          "metadata": {
            "tags": []
          },
          "execution_count": 135
        }
      ]
    },
    {
      "cell_type": "code",
      "metadata": {
        "colab": {
          "base_uri": "https://localhost:8080/"
        },
        "id": "f1Jd3Kf3TkTM",
        "outputId": "eca3830e-7985-441f-e004-6a435063c0cb"
      },
      "source": [
        "cosine_sim = cosine_similarity(count_matrix, count_matrix)\n",
        "print(cosine_sim)"
      ],
      "execution_count": 136,
      "outputs": [
        {
          "output_type": "stream",
          "text": [
            "[[1.         0.01059998 0.02649995 ... 0.03623939 0.00979968 0.        ]\n",
            " [0.01059998 1.         0.025      ... 0.03418817 0.01849001 0.02581989]\n",
            " [0.02649995 0.025      1.         ... 0.         0.02311251 0.        ]\n",
            " ...\n",
            " [0.03623939 0.03418817 0.         ... 1.         0.03160698 0.02942449]\n",
            " [0.00979968 0.01849001 0.02311251 ... 0.03160698 1.         0.        ]\n",
            " [0.         0.02581989 0.         ... 0.02942449 0.         1.        ]]\n"
          ],
          "name": "stdout"
        }
      ]
    },
    {
      "cell_type": "code",
      "metadata": {
        "colab": {
          "base_uri": "https://localhost:8080/"
        },
        "id": "lh26L-FbWuid",
        "outputId": "fc4671a5-50b0-40d7-efe4-269b69de75dc"
      },
      "source": [
        "indices = pd.Series(df['isbn10'])\n",
        "indices[:5]\n"
      ],
      "execution_count": 137,
      "outputs": [
        {
          "output_type": "execute_result",
          "data": {
            "text/plain": [
              "0    0002005883\n",
              "1    0002261987\n",
              "2    0006163831\n",
              "3    0006178731\n",
              "4    0006280897\n",
              "Name: isbn10, dtype: object"
            ]
          },
          "metadata": {
            "tags": []
          },
          "execution_count": 137
        }
      ]
    },
    {
      "cell_type": "code",
      "metadata": {
        "colab": {
          "base_uri": "https://localhost:8080/",
          "height": 771
        },
        "id": "eEgrVftTZLTi",
        "outputId": "e24cce15-7e0f-448a-f53c-059e056b9070"
      },
      "source": [
        "df"
      ],
      "execution_count": 138,
      "outputs": [
        {
          "output_type": "execute_result",
          "data": {
            "text/html": [
              "<div>\n",
              "<style scoped>\n",
              "    .dataframe tbody tr th:only-of-type {\n",
              "        vertical-align: middle;\n",
              "    }\n",
              "\n",
              "    .dataframe tbody tr th {\n",
              "        vertical-align: top;\n",
              "    }\n",
              "\n",
              "    .dataframe thead th {\n",
              "        text-align: right;\n",
              "    }\n",
              "</style>\n",
              "<table border=\"1\" class=\"dataframe\">\n",
              "  <thead>\n",
              "    <tr style=\"text-align: right;\">\n",
              "      <th></th>\n",
              "      <th>index</th>\n",
              "      <th>isbn10</th>\n",
              "      <th>title</th>\n",
              "      <th>authors</th>\n",
              "      <th>thumbnail</th>\n",
              "      <th>description</th>\n",
              "      <th>categories</th>\n",
              "      <th>Key_words</th>\n",
              "      <th>Bag_of_words</th>\n",
              "    </tr>\n",
              "  </thead>\n",
              "  <tbody>\n",
              "    <tr>\n",
              "      <th>0</th>\n",
              "      <td>0</td>\n",
              "      <td>0002005883</td>\n",
              "      <td>Gilead</td>\n",
              "      <td>[marilynnerobinson]</td>\n",
              "      <td>http://books.google.com/books/content?id=KQZCP...</td>\n",
              "      <td>A NOVEL THAT READERS and critics have been eag...</td>\n",
              "      <td>[Fiction]</td>\n",
              "      <td>[marilynnerobinson, Fiction, tale, best, frien...</td>\n",
              "      <td>marilynnerobinson Fiction tale best friend ’ l...</td>\n",
              "    </tr>\n",
              "    <tr>\n",
              "      <th>1</th>\n",
              "      <td>1</td>\n",
              "      <td>0002261987</td>\n",
              "      <td>Spider's Web</td>\n",
              "      <td>[charlesosborne, agathachristie]</td>\n",
              "      <td>http://books.google.com/books/content?id=gA5GP...</td>\n",
              "      <td>A new Christie for Christmas  a fulllength nov...</td>\n",
              "      <td>[Detective, and, mystery, stories]</td>\n",
              "      <td>[charlesosborne, agathachristie, Detective, an...</td>\n",
              "      <td>charlesosborne agathachristie Detective and my...</td>\n",
              "    </tr>\n",
              "    <tr>\n",
              "      <th>2</th>\n",
              "      <td>2</td>\n",
              "      <td>0006163831</td>\n",
              "      <td>The One Tree</td>\n",
              "      <td>[stephenr.donaldson]</td>\n",
              "      <td>http://books.google.com/books/content?id=OmQaw...</td>\n",
              "      <td>Volume Two of Stephen Donaldsons acclaimed sec...</td>\n",
              "      <td>[American, fiction]</td>\n",
              "      <td>[stephenr.donaldson, American, fiction, volume...</td>\n",
              "      <td>stephenr.donaldson American fiction volume two...</td>\n",
              "    </tr>\n",
              "    <tr>\n",
              "      <th>3</th>\n",
              "      <td>3</td>\n",
              "      <td>0006178731</td>\n",
              "      <td>Rage of angels</td>\n",
              "      <td>[sidneysheldon]</td>\n",
              "      <td>http://books.google.com/books/content?id=FKo2T...</td>\n",
              "      <td>A memorable mesmerizing heroine Jennifer  bril...</td>\n",
              "      <td>[Fiction]</td>\n",
              "      <td>[sidneysheldon, Fiction, hate, mafias, schemes...</td>\n",
              "      <td>sidneysheldon Fiction hate mafias schemes win ...</td>\n",
              "    </tr>\n",
              "    <tr>\n",
              "      <th>4</th>\n",
              "      <td>4</td>\n",
              "      <td>0006280897</td>\n",
              "      <td>The Four Loves</td>\n",
              "      <td>[clivestapleslewis]</td>\n",
              "      <td>http://books.google.com/books/content?id=XhQ5X...</td>\n",
              "      <td>Lewis work on the nature of love divides love ...</td>\n",
              "      <td>[Christian, life]</td>\n",
              "      <td>[clivestapleslewis, Christian, life, natural, ...</td>\n",
              "      <td>clivestapleslewis Christian life natural loves...</td>\n",
              "    </tr>\n",
              "    <tr>\n",
              "      <th>...</th>\n",
              "      <td>...</td>\n",
              "      <td>...</td>\n",
              "      <td>...</td>\n",
              "      <td>...</td>\n",
              "      <td>...</td>\n",
              "      <td>...</td>\n",
              "      <td>...</td>\n",
              "      <td>...</td>\n",
              "      <td>...</td>\n",
              "    </tr>\n",
              "    <tr>\n",
              "      <th>6242</th>\n",
              "      <td>6803</td>\n",
              "      <td>8173031010</td>\n",
              "      <td>Journey to the East</td>\n",
              "      <td>[hermannhesse]</td>\n",
              "      <td>http://books.google.com/books/content?id=rq6JP...</td>\n",
              "      <td>This book tells the tale of a man who goes on ...</td>\n",
              "      <td>[Adventure, stories]</td>\n",
              "      <td>[hermannhesse, Adventure, stories, tale, 1932,...</td>\n",
              "      <td>hermannhesse Adventure stories tale 1932 enlig...</td>\n",
              "    </tr>\n",
              "    <tr>\n",
              "      <th>6243</th>\n",
              "      <td>6804</td>\n",
              "      <td>817992162X</td>\n",
              "      <td>The Monk Who Sold His Ferrari: A Fable About F...</td>\n",
              "      <td>[robinsharma]</td>\n",
              "      <td>http://books.google.com/books/content?id=c_7mf...</td>\n",
              "      <td>Wisdom to Create a Life of Passion Purpose and...</td>\n",
              "      <td>[Health, &amp;, Fitness]</td>\n",
              "      <td>[robinsharma, Health, &amp;, Fitness, wisdom, conf...</td>\n",
              "      <td>robinsharma Health &amp; Fitness wisdom confront p...</td>\n",
              "    </tr>\n",
              "    <tr>\n",
              "      <th>6244</th>\n",
              "      <td>6805</td>\n",
              "      <td>8185300534</td>\n",
              "      <td>I Am that</td>\n",
              "      <td>[srinisargadattamaharaj, sudhakars.dikshit]</td>\n",
              "      <td>http://books.google.com/books/content?id=Fv_JP...</td>\n",
              "      <td>This collection of the timeless teachings of o...</td>\n",
              "      <td>[Philosophy]</td>\n",
              "      <td>[srinisargadattamaharaj, sudhakars.dikshit, Ph...</td>\n",
              "      <td>srinisargadattamaharaj sudhakars.dikshit Philo...</td>\n",
              "    </tr>\n",
              "    <tr>\n",
              "      <th>6245</th>\n",
              "      <td>6808</td>\n",
              "      <td>9027712050</td>\n",
              "      <td>The Berlin Phenomenology</td>\n",
              "      <td>[georgwilhelmfriedrichhegel]</td>\n",
              "      <td>http://books.google.com/books/content?id=Vy7Sk...</td>\n",
              "      <td>Since the three volume edition ofHegels Philos...</td>\n",
              "      <td>[History]</td>\n",
              "      <td>[georgwilhelmfriedrichhegel, History, logical,...</td>\n",
              "      <td>georgwilhelmfriedrichhegel History logical tho...</td>\n",
              "    </tr>\n",
              "    <tr>\n",
              "      <th>6246</th>\n",
              "      <td>6809</td>\n",
              "      <td>9042003405</td>\n",
              "      <td>'I'm Telling You Stories'</td>\n",
              "      <td>[helenagrice, timwoods]</td>\n",
              "      <td>http://books.google.com/books/content?id=2lVyR...</td>\n",
              "      <td>This is a jubilant and rewarding collection of...</td>\n",
              "      <td>[Literary, Criticism]</td>\n",
              "      <td>[helenagrice, timwoods, Literary, Criticism, h...</td>\n",
              "      <td>helenagrice timwoods Literary Criticism host r...</td>\n",
              "    </tr>\n",
              "  </tbody>\n",
              "</table>\n",
              "<p>6247 rows × 9 columns</p>\n",
              "</div>"
            ],
            "text/plain": [
              "      index  ...                                       Bag_of_words\n",
              "0         0  ...  marilynnerobinson Fiction tale best friend ’ l...\n",
              "1         1  ...  charlesosborne agathachristie Detective and my...\n",
              "2         2  ...  stephenr.donaldson American fiction volume two...\n",
              "3         3  ...  sidneysheldon Fiction hate mafias schemes win ...\n",
              "4         4  ...  clivestapleslewis Christian life natural loves...\n",
              "...     ...  ...                                                ...\n",
              "6242   6803  ...  hermannhesse Adventure stories tale 1932 enlig...\n",
              "6243   6804  ...  robinsharma Health & Fitness wisdom confront p...\n",
              "6244   6805  ...  srinisargadattamaharaj sudhakars.dikshit Philo...\n",
              "6245   6808  ...  georgwilhelmfriedrichhegel History logical tho...\n",
              "6246   6809  ...  helenagrice timwoods Literary Criticism host r...\n",
              "\n",
              "[6247 rows x 9 columns]"
            ]
          },
          "metadata": {
            "tags": []
          },
          "execution_count": 138
        }
      ]
    },
    {
      "cell_type": "markdown",
      "metadata": {
        "id": "EnNtuyiIIdl0"
      },
      "source": [
        "**we are searching the book by isbn10 here but in the final code will use fuzzywuzzy to search through entering book title like done in the colab_filter **"
      ]
    },
    {
      "cell_type": "code",
      "metadata": {
        "id": "UrbGzzPpW4mh",
        "colab": {
          "base_uri": "https://localhost:8080/",
          "height": 537
        },
        "outputId": "32c0fa4a-0094-492a-ea21-ec78c49c1540"
      },
      "source": [
        "def recommend(isbn, cosine_sim = cosine_sim):\n",
        "    recommended_books = []\n",
        "    resdf=pd.DataFrame()\n",
        "    idx = indices[indices == isbn].index[0]   # to get the index of the movie title matching the input movie\n",
        "    score_series = pd.Series(cosine_sim[idx]).sort_values(ascending = False)  \n",
        "    top_10_indices = list(score_series.iloc[1:11].index)   # to get the indices of top 10 most similar movies\n",
        "    # [1:11] to exclude 0 (index 0 is the input movie itself)\n",
        "    for i in top_10_indices:   # to append the titles of top 10 similar movies to the recommended_movies list\n",
        "        recommended_books.append(list(df['isbn10'])[i])\n",
        "    resdf=df[df['isbn10'].isin(recommended_books)]  \n",
        "    return resdf\n",
        "\n",
        "recommend('0439064864')# try 0439064864 for harry potter 2, 0439064864 is the time machine by hg wells\n",
        "\n",
        "#df.loc[df['isbn10'] == '0451528557']\n",
        "#print(df['title'][2510])#so duplicate book titles exist!"
      ],
      "execution_count": 139,
      "outputs": [
        {
          "output_type": "execute_result",
          "data": {
            "text/html": [
              "<div>\n",
              "<style scoped>\n",
              "    .dataframe tbody tr th:only-of-type {\n",
              "        vertical-align: middle;\n",
              "    }\n",
              "\n",
              "    .dataframe tbody tr th {\n",
              "        vertical-align: top;\n",
              "    }\n",
              "\n",
              "    .dataframe thead th {\n",
              "        text-align: right;\n",
              "    }\n",
              "</style>\n",
              "<table border=\"1\" class=\"dataframe\">\n",
              "  <thead>\n",
              "    <tr style=\"text-align: right;\">\n",
              "      <th></th>\n",
              "      <th>index</th>\n",
              "      <th>isbn10</th>\n",
              "      <th>title</th>\n",
              "      <th>authors</th>\n",
              "      <th>thumbnail</th>\n",
              "      <th>description</th>\n",
              "      <th>categories</th>\n",
              "      <th>Key_words</th>\n",
              "      <th>Bag_of_words</th>\n",
              "    </tr>\n",
              "  </thead>\n",
              "  <tbody>\n",
              "    <tr>\n",
              "      <th>454</th>\n",
              "      <td>473</td>\n",
              "      <td>0064400964</td>\n",
              "      <td>Betsy-Tacy</td>\n",
              "      <td>[maudhartlovelace]</td>\n",
              "      <td>http://books.google.com/books/content?id=tfUCG...</td>\n",
              "      <td>Best Friends Forever There are lots of childre...</td>\n",
              "      <td>[Juvenile, Fiction]</td>\n",
              "      <td>[maudhartlovelace, Juvenile, Fiction, wonderfu...</td>\n",
              "      <td>maudhartlovelace Juvenile Fiction wonderful su...</td>\n",
              "    </tr>\n",
              "    <tr>\n",
              "      <th>2503</th>\n",
              "      <td>2676</td>\n",
              "      <td>0439358078</td>\n",
              "      <td>Harry Potter and the Order of the Phoenix (Boo...</td>\n",
              "      <td>[rowling,j.k.]</td>\n",
              "      <td>http://books.google.com/books/content?id=OIJ5B...</td>\n",
              "      <td>In Harry Potter and the Order of the Phoenix L...</td>\n",
              "      <td>[Juvenile, Fiction]</td>\n",
              "      <td>[rowling,j.k., Juvenile, Fiction, ministry, lo...</td>\n",
              "      <td>rowling,j.k. Juvenile Fiction ministry looming...</td>\n",
              "    </tr>\n",
              "    <tr>\n",
              "      <th>2519</th>\n",
              "      <td>2697</td>\n",
              "      <td>0439554896</td>\n",
              "      <td>Harry Potter and the Chamber of Secrets</td>\n",
              "      <td>[j.k.rowling, marygrandpre]</td>\n",
              "      <td>http://books.google.com/books/content?id=h2Y-P...</td>\n",
              "      <td>When the Chamber of Secrets is opened again at...</td>\n",
              "      <td>[Juvenile, Fiction]</td>\n",
              "      <td>[j.k.rowling, marygrandpre, Juvenile, Fiction,...</td>\n",
              "      <td>j.k.rowling marygrandpre Juvenile Fiction dark...</td>\n",
              "    </tr>\n",
              "    <tr>\n",
              "      <th>2520</th>\n",
              "      <td>2698</td>\n",
              "      <td>0439554934</td>\n",
              "      <td>Harry Potter and the Sorcerer's Stone (Book 1)</td>\n",
              "      <td>[rowling,j.k.]</td>\n",
              "      <td>http://books.google.com/books/content?id=9jA0B...</td>\n",
              "      <td>In Harry Potter and the Sorcerers Stone Harry ...</td>\n",
              "      <td>[Juvenile, Fiction]</td>\n",
              "      <td>[rowling,j.k., Juvenile, Fiction, closest, fri...</td>\n",
              "      <td>rowling,j.k. Juvenile Fiction closest friends ...</td>\n",
              "    </tr>\n",
              "    <tr>\n",
              "      <th>2531</th>\n",
              "      <td>2710</td>\n",
              "      <td>043965548X</td>\n",
              "      <td>Harry Potter and the Prisoner of Azkaban (Book 3)</td>\n",
              "      <td>[rowling,j.k.]</td>\n",
              "      <td>http://books.google.com/books/content?id=IZN5B...</td>\n",
              "      <td>For twelve long years the dread fortress of Az...</td>\n",
              "      <td>[Juvenile, Fiction]</td>\n",
              "      <td>[rowling,j.k., Juvenile, Fiction, father, ’, y...</td>\n",
              "      <td>rowling,j.k. Juvenile Fiction father ’ youknow...</td>\n",
              "    </tr>\n",
              "    <tr>\n",
              "      <th>2533</th>\n",
              "      <td>2712</td>\n",
              "      <td>0439682584</td>\n",
              "      <td>Harry Potter</td>\n",
              "      <td>[j.k.rowling]</td>\n",
              "      <td>http://books.google.com/books/content?id=DAAAA...</td>\n",
              "      <td>The first five years of Harry Potter magic are...</td>\n",
              "      <td>[Juvenile, Fiction]</td>\n",
              "      <td>[j.k.rowling, Juvenile, Fiction, azkaban, phoe...</td>\n",
              "      <td>j.k.rowling Juvenile Fiction azkaban phoenix s...</td>\n",
              "    </tr>\n",
              "    <tr>\n",
              "      <th>2542</th>\n",
              "      <td>2723</td>\n",
              "      <td>0439785960</td>\n",
              "      <td>Harry Potter and the Half-Blood Prince (Book 6)</td>\n",
              "      <td>[rowling,j.k.]</td>\n",
              "      <td>http://books.google.com/books/content?id=QzI0B...</td>\n",
              "      <td>When Harry Potter and the HalfBlood Prince ope...</td>\n",
              "      <td>[Juvenile, Fiction]</td>\n",
              "      <td>[rowling,j.k., Juvenile, Fiction, named, tom, ...</td>\n",
              "      <td>rowling,j.k. Juvenile Fiction named tom riddle...</td>\n",
              "    </tr>\n",
              "    <tr>\n",
              "      <th>2548</th>\n",
              "      <td>2730</td>\n",
              "      <td>0439827604</td>\n",
              "      <td>The Harry Potter Collection</td>\n",
              "      <td>[j.k.rowling]</td>\n",
              "      <td>http://books.google.com/books/content?id=v0z1P...</td>\n",
              "      <td>The first six years of Harry Potter magic are ...</td>\n",
              "      <td>[Juvenile, Fiction]</td>\n",
              "      <td>[j.k.rowling, Juvenile, Fiction, azkaban, orde...</td>\n",
              "      <td>j.k.rowling Juvenile Fiction azkaban order hal...</td>\n",
              "    </tr>\n",
              "    <tr>\n",
              "      <th>4169</th>\n",
              "      <td>4508</td>\n",
              "      <td>074754624X</td>\n",
              "      <td>Harry Potter and the Goblet of Fire</td>\n",
              "      <td>[j.k.rowling]</td>\n",
              "      <td>http://books.google.com/books/content?id=5eSxn...</td>\n",
              "      <td>The summer holidays are dragging on and Harry ...</td>\n",
              "      <td>[Juvenile, Fiction]</td>\n",
              "      <td>[j.k.rowling, Juvenile, Fiction, yet, preparin...</td>\n",
              "      <td>j.k.rowling Juvenile Fiction yet preparing har...</td>\n",
              "    </tr>\n",
              "    <tr>\n",
              "      <th>5433</th>\n",
              "      <td>5911</td>\n",
              "      <td>1416909052</td>\n",
              "      <td>Amelia's Notebook</td>\n",
              "      <td>[marissamoss]</td>\n",
              "      <td>http://books.google.com/books/content?id=szoDb...</td>\n",
              "      <td>The handlettered contents of a nineyearold gir...</td>\n",
              "      <td>[Juvenile, Fiction]</td>\n",
              "      <td>[marissamoss, Juvenile, Fiction, older, sister...</td>\n",
              "      <td>marissamoss Juvenile Fiction older sister also...</td>\n",
              "    </tr>\n",
              "  </tbody>\n",
              "</table>\n",
              "</div>"
            ],
            "text/plain": [
              "      index  ...                                       Bag_of_words\n",
              "454     473  ...  maudhartlovelace Juvenile Fiction wonderful su...\n",
              "2503   2676  ...  rowling,j.k. Juvenile Fiction ministry looming...\n",
              "2519   2697  ...  j.k.rowling marygrandpre Juvenile Fiction dark...\n",
              "2520   2698  ...  rowling,j.k. Juvenile Fiction closest friends ...\n",
              "2531   2710  ...  rowling,j.k. Juvenile Fiction father ’ youknow...\n",
              "2533   2712  ...  j.k.rowling Juvenile Fiction azkaban phoenix s...\n",
              "2542   2723  ...  rowling,j.k. Juvenile Fiction named tom riddle...\n",
              "2548   2730  ...  j.k.rowling Juvenile Fiction azkaban order hal...\n",
              "4169   4508  ...  j.k.rowling Juvenile Fiction yet preparing har...\n",
              "5433   5911  ...  marissamoss Juvenile Fiction older sister also...\n",
              "\n",
              "[10 rows x 9 columns]"
            ]
          },
          "metadata": {
            "tags": []
          },
          "execution_count": 139
        }
      ]
    },
    {
      "cell_type": "markdown",
      "metadata": {
        "id": "RnuXHAr8EGCk"
      },
      "source": [
        "**conclusion**\n",
        "we can see all of these are similar movies, share categories and from the description we can tell that they are science fiction books and have the author H.G. wells in common in one some too. "
      ]
    },
    {
      "cell_type": "markdown",
      "metadata": {
        "id": "cpSW9J2CI7AL"
      },
      "source": [
        "**trying to find how many books are in common in Books and books7k**\n"
      ]
    },
    {
      "cell_type": "code",
      "metadata": {
        "colab": {
          "base_uri": "https://localhost:8080/",
          "height": 310
        },
        "id": "_iddpG8bJGQh",
        "outputId": "8873e3e5-abb5-4c27-994f-71d23a09cecb"
      },
      "source": [
        "bdf = pd.read_csv('/content/drive/MyDrive/Books.csv', engine='python', error_bad_lines=False)\n",
        "bdf.head()"
      ],
      "execution_count": 140,
      "outputs": [
        {
          "output_type": "execute_result",
          "data": {
            "text/html": [
              "<div>\n",
              "<style scoped>\n",
              "    .dataframe tbody tr th:only-of-type {\n",
              "        vertical-align: middle;\n",
              "    }\n",
              "\n",
              "    .dataframe tbody tr th {\n",
              "        vertical-align: top;\n",
              "    }\n",
              "\n",
              "    .dataframe thead th {\n",
              "        text-align: right;\n",
              "    }\n",
              "</style>\n",
              "<table border=\"1\" class=\"dataframe\">\n",
              "  <thead>\n",
              "    <tr style=\"text-align: right;\">\n",
              "      <th></th>\n",
              "      <th>ISBN</th>\n",
              "      <th>Book-Title</th>\n",
              "      <th>Book-Author</th>\n",
              "      <th>Year-Of-Publication</th>\n",
              "      <th>Publisher</th>\n",
              "      <th>Image-URL-S</th>\n",
              "      <th>Image-URL-M</th>\n",
              "      <th>Image-URL-L</th>\n",
              "    </tr>\n",
              "  </thead>\n",
              "  <tbody>\n",
              "    <tr>\n",
              "      <th>0</th>\n",
              "      <td>0195153448</td>\n",
              "      <td>Classical Mythology</td>\n",
              "      <td>Mark P. O. Morford</td>\n",
              "      <td>2002</td>\n",
              "      <td>Oxford University Press</td>\n",
              "      <td>http://images.amazon.com/images/P/0195153448.0...</td>\n",
              "      <td>http://images.amazon.com/images/P/0195153448.0...</td>\n",
              "      <td>http://images.amazon.com/images/P/0195153448.0...</td>\n",
              "    </tr>\n",
              "    <tr>\n",
              "      <th>1</th>\n",
              "      <td>0002005018</td>\n",
              "      <td>Clara Callan</td>\n",
              "      <td>Richard Bruce Wright</td>\n",
              "      <td>2001</td>\n",
              "      <td>HarperFlamingo Canada</td>\n",
              "      <td>http://images.amazon.com/images/P/0002005018.0...</td>\n",
              "      <td>http://images.amazon.com/images/P/0002005018.0...</td>\n",
              "      <td>http://images.amazon.com/images/P/0002005018.0...</td>\n",
              "    </tr>\n",
              "    <tr>\n",
              "      <th>2</th>\n",
              "      <td>0060973129</td>\n",
              "      <td>Decision in Normandy</td>\n",
              "      <td>Carlo D'Este</td>\n",
              "      <td>1991</td>\n",
              "      <td>HarperPerennial</td>\n",
              "      <td>http://images.amazon.com/images/P/0060973129.0...</td>\n",
              "      <td>http://images.amazon.com/images/P/0060973129.0...</td>\n",
              "      <td>http://images.amazon.com/images/P/0060973129.0...</td>\n",
              "    </tr>\n",
              "    <tr>\n",
              "      <th>3</th>\n",
              "      <td>0374157065</td>\n",
              "      <td>Flu: The Story of the Great Influenza Pandemic...</td>\n",
              "      <td>Gina Bari Kolata</td>\n",
              "      <td>1999</td>\n",
              "      <td>Farrar Straus Giroux</td>\n",
              "      <td>http://images.amazon.com/images/P/0374157065.0...</td>\n",
              "      <td>http://images.amazon.com/images/P/0374157065.0...</td>\n",
              "      <td>http://images.amazon.com/images/P/0374157065.0...</td>\n",
              "    </tr>\n",
              "    <tr>\n",
              "      <th>4</th>\n",
              "      <td>0393045218</td>\n",
              "      <td>The Mummies of Urumchi</td>\n",
              "      <td>E. J. W. Barber</td>\n",
              "      <td>1999</td>\n",
              "      <td>W. W. Norton &amp;amp; Company</td>\n",
              "      <td>http://images.amazon.com/images/P/0393045218.0...</td>\n",
              "      <td>http://images.amazon.com/images/P/0393045218.0...</td>\n",
              "      <td>http://images.amazon.com/images/P/0393045218.0...</td>\n",
              "    </tr>\n",
              "  </tbody>\n",
              "</table>\n",
              "</div>"
            ],
            "text/plain": [
              "         ISBN  ...                                        Image-URL-L\n",
              "0  0195153448  ...  http://images.amazon.com/images/P/0195153448.0...\n",
              "1  0002005018  ...  http://images.amazon.com/images/P/0002005018.0...\n",
              "2  0060973129  ...  http://images.amazon.com/images/P/0060973129.0...\n",
              "3  0374157065  ...  http://images.amazon.com/images/P/0374157065.0...\n",
              "4  0393045218  ...  http://images.amazon.com/images/P/0393045218.0...\n",
              "\n",
              "[5 rows x 8 columns]"
            ]
          },
          "metadata": {
            "tags": []
          },
          "execution_count": 140
        }
      ]
    },
    {
      "cell_type": "code",
      "metadata": {
        "colab": {
          "base_uri": "https://localhost:8080/"
        },
        "id": "Q0Ykh-iUJW1S",
        "outputId": "6fc15818-04f9-4c8e-9d3c-995739633e9e"
      },
      "source": [
        "in_common=df[df['isbn10'].isin(list(bdf['ISBN'].unique()))]\n",
        "in_common.shape"
      ],
      "execution_count": 141,
      "outputs": [
        {
          "output_type": "execute_result",
          "data": {
            "text/plain": [
              "(2265, 9)"
            ]
          },
          "metadata": {
            "tags": []
          },
          "execution_count": 141
        }
      ]
    },
    {
      "cell_type": "markdown",
      "metadata": {
        "id": "zMowoTlQOxTh"
      },
      "source": [
        "this means that we can only use books out of 2265 books in collaborative filtering or to search. "
      ]
    }
  ]
}