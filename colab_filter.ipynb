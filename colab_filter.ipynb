{
  "nbformat": 4,
  "nbformat_minor": 0,
  "metadata": {
    "colab": {
      "name": "colab_filter.ipynb",
      "provenance": [],
      "mount_file_id": "1GdJOt3bojVEm2HJQb9z_4OD_xTwJJNMm",
      "authorship_tag": "ABX9TyNY17tKjTb52u9Otv8FhDuf",
      "include_colab_link": true
    },
    "kernelspec": {
      "name": "python3",
      "display_name": "Python 3"
    },
    "language_info": {
      "name": "python"
    }
  },
  "cells": [
    {
      "cell_type": "markdown",
      "metadata": {
        "id": "view-in-github",
        "colab_type": "text"
      },
      "source": [
        "<a href=\"https://colab.research.google.com/github/aditisinghq/book-talk/blob/main/colab_filter.ipynb\" target=\"_parent\"><img src=\"https://colab.research.google.com/assets/colab-badge.svg\" alt=\"Open In Colab\"/></a>"
      ]
    },
    {
      "cell_type": "markdown",
      "metadata": {
        "id": "7JIxZi8cEe-G"
      },
      "source": [
        "**using KNN in item based collaborative filtering**\n",
        "finding similarities between items i.e books based on the ratings they've been given\n"
      ]
    },
    {
      "cell_type": "code",
      "metadata": {
        "colab": {
          "base_uri": "https://localhost:8080/"
        },
        "id": "meCTZDIsBb4J",
        "outputId": "5b0a9941-b7f1-4475-e0ad-d69e3d95e903"
      },
      "source": [
        "!pip install fuzzywuzzy"
      ],
      "execution_count": null,
      "outputs": [
        {
          "output_type": "stream",
          "text": [
            "Collecting fuzzywuzzy\n",
            "  Downloading fuzzywuzzy-0.18.0-py2.py3-none-any.whl (18 kB)\n",
            "Installing collected packages: fuzzywuzzy\n",
            "Successfully installed fuzzywuzzy-0.18.0\n"
          ],
          "name": "stdout"
        }
      ]
    },
    {
      "cell_type": "code",
      "metadata": {
        "colab": {
          "base_uri": "https://localhost:8080/"
        },
        "id": "RXe7WwOFDqXG",
        "outputId": "3dccbc6b-8b5c-4348-a5b3-5bba00a0c9ff"
      },
      "source": [
        "pip install python-Levenshtein"
      ],
      "execution_count": null,
      "outputs": [
        {
          "output_type": "stream",
          "text": [
            "Collecting python-Levenshtein\n",
            "  Downloading python-Levenshtein-0.12.2.tar.gz (50 kB)\n",
            "\u001b[?25l\r\u001b[K     |██████▌                         | 10 kB 21.2 MB/s eta 0:00:01\r\u001b[K     |█████████████                   | 20 kB 14.7 MB/s eta 0:00:01\r\u001b[K     |███████████████████▌            | 30 kB 10.2 MB/s eta 0:00:01\r\u001b[K     |██████████████████████████      | 40 kB 9.4 MB/s eta 0:00:01\r\u001b[K     |████████████████████████████████| 50 kB 2.7 MB/s \n",
            "\u001b[?25hRequirement already satisfied: setuptools in /usr/local/lib/python3.7/dist-packages (from python-Levenshtein) (57.2.0)\n",
            "Building wheels for collected packages: python-Levenshtein\n",
            "  Building wheel for python-Levenshtein (setup.py) ... \u001b[?25l\u001b[?25hdone\n",
            "  Created wheel for python-Levenshtein: filename=python_Levenshtein-0.12.2-cp37-cp37m-linux_x86_64.whl size=149858 sha256=d9d670cba15808352c447f957a59525c4d328a91a9322bdbb7cdbe8e70353bee\n",
            "  Stored in directory: /root/.cache/pip/wheels/05/5f/ca/7c4367734892581bb5ff896f15027a932c551080b2abd3e00d\n",
            "Successfully built python-Levenshtein\n",
            "Installing collected packages: python-Levenshtein\n",
            "Successfully installed python-Levenshtein-0.12.2\n"
          ],
          "name": "stdout"
        }
      ]
    },
    {
      "cell_type": "code",
      "metadata": {
        "id": "B4vPxluBCvmC"
      },
      "source": [
        "import numpy as np \n",
        "import pandas as pd\n",
        "import scipy.sparse\n",
        "from scipy.sparse import csr_matrix\n",
        "from sklearn.neighbors import NearestNeighbors\n",
        "from fuzzywuzzy import process\n",
        "pd.set_option('mode.chained_assignment', None)\n",
        "pd.set_option('display.max_colwidth',None)"
      ],
      "execution_count": null,
      "outputs": []
    },
    {
      "cell_type": "code",
      "metadata": {
        "id": "5D8Aii6l8l-E"
      },
      "source": [
        "#bookcrossing dataset. has ratings data but books don't have descriptions\n",
        "Books = pd.read_csv('/content/drive/MyDrive/Books.csv',low_memory=False)\n",
        "Ratings = pd.read_csv('/content/drive/MyDrive/Ratings.csv',low_memory=False)\n",
        "Users = pd.read_csv('/content/drive/MyDrive/Users.csv',low_memory=False)"
      ],
      "execution_count": null,
      "outputs": []
    },
    {
      "cell_type": "code",
      "metadata": {
        "colab": {
          "base_uri": "https://localhost:8080/"
        },
        "id": "VOMenW_wjnem",
        "outputId": "500e418a-1777-495e-f073-43e04bfd67e1"
      },
      "source": [
        "books7k = pd.read_csv('/content/drive/MyDrive/books7k.csv',low_memory=False)\n",
        "books7k=books7k[['isbn10','title','description','categories','thumbnail','authors']]\n",
        "print(\"before dropping null: \",books7k.shape)\n",
        "books7k.dropna(inplace=True)\n",
        "print(\"after dropping null: \",books7k.shape)"
      ],
      "execution_count": null,
      "outputs": [
        {
          "output_type": "stream",
          "text": [
            "before dropping null:  (6810, 6)\n",
            "after dropping null:  (6247, 6)\n"
          ],
          "name": "stdout"
        }
      ]
    },
    {
      "cell_type": "code",
      "metadata": {
        "colab": {
          "base_uri": "https://localhost:8080/"
        },
        "id": "zfJKzNl2EmCJ",
        "outputId": "a834f21d-3f89-4037-df4d-c370d9a2693a"
      },
      "source": [
        "#remove books that are not in 7k(since there's no description available)\n",
        "Books=Books[Books['ISBN'].isin(list(books7k['isbn10'].unique()))]\n",
        "Books.shape"
      ],
      "execution_count": null,
      "outputs": [
        {
          "output_type": "execute_result",
          "data": {
            "text/plain": [
              "(2265, 8)"
            ]
          },
          "metadata": {
            "tags": []
          },
          "execution_count": 7
        }
      ]
    },
    {
      "cell_type": "code",
      "metadata": {
        "colab": {
          "base_uri": "https://localhost:8080/"
        },
        "id": "7ezJ2QWXovK-",
        "outputId": "0d7a9a43-d31a-4fb9-cee8-abbcd98e2d72"
      },
      "source": [
        "print(\"shape before cleaning:\",Ratings.shape)\n",
        "Ratings = Ratings[Ratings['User-ID'].isin(list(Users['User-ID'].unique()))]\n",
        "Ratings = Ratings[Ratings['ISBN'].isin(list(Books['ISBN'].unique()))]\n",
        "print(\"shape after cleaning:\",Ratings.shape)"
      ],
      "execution_count": null,
      "outputs": [
        {
          "output_type": "stream",
          "text": [
            "shape before cleaning: (1149780, 3)\n",
            "shape after cleaning: (39554, 3)\n"
          ],
          "name": "stdout"
        }
      ]
    },
    {
      "cell_type": "code",
      "metadata": {
        "colab": {
          "base_uri": "https://localhost:8080/",
          "height": 311
        },
        "id": "hrwimlCiE8ki",
        "outputId": "17ab5e9f-9036-45d9-f052-f18f6f5a908d"
      },
      "source": [
        "Books.head()"
      ],
      "execution_count": null,
      "outputs": [
        {
          "output_type": "execute_result",
          "data": {
            "text/html": [
              "<div>\n",
              "<style scoped>\n",
              "    .dataframe tbody tr th:only-of-type {\n",
              "        vertical-align: middle;\n",
              "    }\n",
              "\n",
              "    .dataframe tbody tr th {\n",
              "        vertical-align: top;\n",
              "    }\n",
              "\n",
              "    .dataframe thead th {\n",
              "        text-align: right;\n",
              "    }\n",
              "</style>\n",
              "<table border=\"1\" class=\"dataframe\">\n",
              "  <thead>\n",
              "    <tr style=\"text-align: right;\">\n",
              "      <th></th>\n",
              "      <th>ISBN</th>\n",
              "      <th>Book-Title</th>\n",
              "      <th>Book-Author</th>\n",
              "      <th>Year-Of-Publication</th>\n",
              "      <th>Publisher</th>\n",
              "      <th>Image-URL-S</th>\n",
              "      <th>Image-URL-M</th>\n",
              "      <th>Image-URL-L</th>\n",
              "    </tr>\n",
              "  </thead>\n",
              "  <tbody>\n",
              "    <tr>\n",
              "      <th>18</th>\n",
              "      <td>0440234743</td>\n",
              "      <td>The Testament</td>\n",
              "      <td>John Grisham</td>\n",
              "      <td>1999</td>\n",
              "      <td>Dell</td>\n",
              "      <td>http://images.amazon.com/images/P/0440234743.01.THUMBZZZ.jpg</td>\n",
              "      <td>http://images.amazon.com/images/P/0440234743.01.MZZZZZZZ.jpg</td>\n",
              "      <td>http://images.amazon.com/images/P/0440234743.01.LZZZZZZZ.jpg</td>\n",
              "    </tr>\n",
              "    <tr>\n",
              "      <th>44</th>\n",
              "      <td>0553582909</td>\n",
              "      <td>Icebound</td>\n",
              "      <td>Dean R. Koontz</td>\n",
              "      <td>2000</td>\n",
              "      <td>Bantam Books</td>\n",
              "      <td>http://images.amazon.com/images/P/0553582909.01.THUMBZZZ.jpg</td>\n",
              "      <td>http://images.amazon.com/images/P/0553582909.01.MZZZZZZZ.jpg</td>\n",
              "      <td>http://images.amazon.com/images/P/0553582909.01.LZZZZZZZ.jpg</td>\n",
              "    </tr>\n",
              "    <tr>\n",
              "      <th>51</th>\n",
              "      <td>0842342702</td>\n",
              "      <td>Left Behind: A Novel of the Earth's Last Days (Left Behind #1)</td>\n",
              "      <td>Tim Lahaye</td>\n",
              "      <td>2000</td>\n",
              "      <td>Tyndale House Publishers</td>\n",
              "      <td>http://images.amazon.com/images/P/0842342702.01.THUMBZZZ.jpg</td>\n",
              "      <td>http://images.amazon.com/images/P/0842342702.01.MZZZZZZZ.jpg</td>\n",
              "      <td>http://images.amazon.com/images/P/0842342702.01.LZZZZZZZ.jpg</td>\n",
              "    </tr>\n",
              "    <tr>\n",
              "      <th>90</th>\n",
              "      <td>0316769487</td>\n",
              "      <td>The Catcher in the Rye</td>\n",
              "      <td>J.D. Salinger</td>\n",
              "      <td>1991</td>\n",
              "      <td>Little, Brown</td>\n",
              "      <td>http://images.amazon.com/images/P/0316769487.01.THUMBZZZ.jpg</td>\n",
              "      <td>http://images.amazon.com/images/P/0316769487.01.MZZZZZZZ.jpg</td>\n",
              "      <td>http://images.amazon.com/images/P/0316769487.01.LZZZZZZZ.jpg</td>\n",
              "    </tr>\n",
              "    <tr>\n",
              "      <th>105</th>\n",
              "      <td>067976397X</td>\n",
              "      <td>Corelli's Mandolin : A Novel</td>\n",
              "      <td>LOUIS DE BERNIERES</td>\n",
              "      <td>1995</td>\n",
              "      <td>Vintage</td>\n",
              "      <td>http://images.amazon.com/images/P/067976397X.01.THUMBZZZ.jpg</td>\n",
              "      <td>http://images.amazon.com/images/P/067976397X.01.MZZZZZZZ.jpg</td>\n",
              "      <td>http://images.amazon.com/images/P/067976397X.01.LZZZZZZZ.jpg</td>\n",
              "    </tr>\n",
              "  </tbody>\n",
              "</table>\n",
              "</div>"
            ],
            "text/plain": [
              "           ISBN  ...                                                   Image-URL-L\n",
              "18   0440234743  ...  http://images.amazon.com/images/P/0440234743.01.LZZZZZZZ.jpg\n",
              "44   0553582909  ...  http://images.amazon.com/images/P/0553582909.01.LZZZZZZZ.jpg\n",
              "51   0842342702  ...  http://images.amazon.com/images/P/0842342702.01.LZZZZZZZ.jpg\n",
              "90   0316769487  ...  http://images.amazon.com/images/P/0316769487.01.LZZZZZZZ.jpg\n",
              "105  067976397X  ...  http://images.amazon.com/images/P/067976397X.01.LZZZZZZZ.jpg\n",
              "\n",
              "[5 rows x 8 columns]"
            ]
          },
          "metadata": {
            "tags": []
          },
          "execution_count": 9
        }
      ]
    },
    {
      "cell_type": "code",
      "metadata": {
        "colab": {
          "base_uri": "https://localhost:8080/",
          "height": 206
        },
        "id": "-Vq7k88NFPvn",
        "outputId": "5c8b7115-959e-4d2d-8df0-c5f372907637"
      },
      "source": [
        "Ratings.head()"
      ],
      "execution_count": null,
      "outputs": [
        {
          "output_type": "execute_result",
          "data": {
            "text/html": [
              "<div>\n",
              "<style scoped>\n",
              "    .dataframe tbody tr th:only-of-type {\n",
              "        vertical-align: middle;\n",
              "    }\n",
              "\n",
              "    .dataframe tbody tr th {\n",
              "        vertical-align: top;\n",
              "    }\n",
              "\n",
              "    .dataframe thead th {\n",
              "        text-align: right;\n",
              "    }\n",
              "</style>\n",
              "<table border=\"1\" class=\"dataframe\">\n",
              "  <thead>\n",
              "    <tr style=\"text-align: right;\">\n",
              "      <th></th>\n",
              "      <th>User-ID</th>\n",
              "      <th>ISBN</th>\n",
              "      <th>Book-Rating</th>\n",
              "    </tr>\n",
              "  </thead>\n",
              "  <tbody>\n",
              "    <tr>\n",
              "      <th>20</th>\n",
              "      <td>276747</td>\n",
              "      <td>0679776818</td>\n",
              "      <td>8</td>\n",
              "    </tr>\n",
              "    <tr>\n",
              "      <th>109</th>\n",
              "      <td>276804</td>\n",
              "      <td>0440498058</td>\n",
              "      <td>8</td>\n",
              "    </tr>\n",
              "    <tr>\n",
              "      <th>112</th>\n",
              "      <td>276808</td>\n",
              "      <td>0395547032</td>\n",
              "      <td>10</td>\n",
              "    </tr>\n",
              "    <tr>\n",
              "      <th>134</th>\n",
              "      <td>276822</td>\n",
              "      <td>0141310340</td>\n",
              "      <td>9</td>\n",
              "    </tr>\n",
              "    <tr>\n",
              "      <th>329</th>\n",
              "      <td>276872</td>\n",
              "      <td>0425188221</td>\n",
              "      <td>7</td>\n",
              "    </tr>\n",
              "  </tbody>\n",
              "</table>\n",
              "</div>"
            ],
            "text/plain": [
              "     User-ID        ISBN  Book-Rating\n",
              "20    276747  0679776818            8\n",
              "109   276804  0440498058            8\n",
              "112   276808  0395547032           10\n",
              "134   276822  0141310340            9\n",
              "329   276872  0425188221            7"
            ]
          },
          "metadata": {
            "tags": []
          },
          "execution_count": 10
        }
      ]
    },
    {
      "cell_type": "markdown",
      "metadata": {
        "id": "7AzaZbT5FJAQ"
      },
      "source": [
        "data has been preprocessed and cleaned up a fair bit. (there are some anamolies in publication years but since we're not using with those values. so ignoring them for now)"
      ]
    },
    {
      "cell_type": "code",
      "metadata": {
        "colab": {
          "base_uri": "https://localhost:8080/",
          "height": 615
        },
        "id": "cd1aqUkfFKK-",
        "outputId": "4472b781-c104-456a-e6e3-9e886cd529b9"
      },
      "source": [
        "#removing users who have rated less than 5 books and books that have been rated less than 3 times \n",
        "counts1 = Ratings['User-ID'].value_counts()\n",
        "Ratings = Ratings[Ratings['User-ID'].isin(counts1[counts1 >=5].index)]\n",
        "counts = Ratings['Book-Rating'].value_counts()\n",
        "Ratings = Ratings[Ratings['Book-Rating'].isin(counts[counts >= 3].index)]\n",
        "Ratings.shape\n",
        "#getting books which are present in our updated ratings dataframes \n",
        "Books=Books[Books['ISBN'].isin(list(Ratings['ISBN']))]#we only have books which have ratings in the Ratings df(updated df)\n",
        "Books"
      ],
      "execution_count": null,
      "outputs": [
        {
          "output_type": "execute_result",
          "data": {
            "text/html": [
              "<div>\n",
              "<style scoped>\n",
              "    .dataframe tbody tr th:only-of-type {\n",
              "        vertical-align: middle;\n",
              "    }\n",
              "\n",
              "    .dataframe tbody tr th {\n",
              "        vertical-align: top;\n",
              "    }\n",
              "\n",
              "    .dataframe thead th {\n",
              "        text-align: right;\n",
              "    }\n",
              "</style>\n",
              "<table border=\"1\" class=\"dataframe\">\n",
              "  <thead>\n",
              "    <tr style=\"text-align: right;\">\n",
              "      <th></th>\n",
              "      <th>ISBN</th>\n",
              "      <th>Book-Title</th>\n",
              "      <th>Book-Author</th>\n",
              "      <th>Year-Of-Publication</th>\n",
              "      <th>Publisher</th>\n",
              "      <th>Image-URL-S</th>\n",
              "      <th>Image-URL-M</th>\n",
              "      <th>Image-URL-L</th>\n",
              "    </tr>\n",
              "  </thead>\n",
              "  <tbody>\n",
              "    <tr>\n",
              "      <th>18</th>\n",
              "      <td>0440234743</td>\n",
              "      <td>The Testament</td>\n",
              "      <td>John Grisham</td>\n",
              "      <td>1999</td>\n",
              "      <td>Dell</td>\n",
              "      <td>http://images.amazon.com/images/P/0440234743.01.THUMBZZZ.jpg</td>\n",
              "      <td>http://images.amazon.com/images/P/0440234743.01.MZZZZZZZ.jpg</td>\n",
              "      <td>http://images.amazon.com/images/P/0440234743.01.LZZZZZZZ.jpg</td>\n",
              "    </tr>\n",
              "    <tr>\n",
              "      <th>44</th>\n",
              "      <td>0553582909</td>\n",
              "      <td>Icebound</td>\n",
              "      <td>Dean R. Koontz</td>\n",
              "      <td>2000</td>\n",
              "      <td>Bantam Books</td>\n",
              "      <td>http://images.amazon.com/images/P/0553582909.01.THUMBZZZ.jpg</td>\n",
              "      <td>http://images.amazon.com/images/P/0553582909.01.MZZZZZZZ.jpg</td>\n",
              "      <td>http://images.amazon.com/images/P/0553582909.01.LZZZZZZZ.jpg</td>\n",
              "    </tr>\n",
              "    <tr>\n",
              "      <th>51</th>\n",
              "      <td>0842342702</td>\n",
              "      <td>Left Behind: A Novel of the Earth's Last Days (Left Behind #1)</td>\n",
              "      <td>Tim Lahaye</td>\n",
              "      <td>2000</td>\n",
              "      <td>Tyndale House Publishers</td>\n",
              "      <td>http://images.amazon.com/images/P/0842342702.01.THUMBZZZ.jpg</td>\n",
              "      <td>http://images.amazon.com/images/P/0842342702.01.MZZZZZZZ.jpg</td>\n",
              "      <td>http://images.amazon.com/images/P/0842342702.01.LZZZZZZZ.jpg</td>\n",
              "    </tr>\n",
              "    <tr>\n",
              "      <th>90</th>\n",
              "      <td>0316769487</td>\n",
              "      <td>The Catcher in the Rye</td>\n",
              "      <td>J.D. Salinger</td>\n",
              "      <td>1991</td>\n",
              "      <td>Little, Brown</td>\n",
              "      <td>http://images.amazon.com/images/P/0316769487.01.THUMBZZZ.jpg</td>\n",
              "      <td>http://images.amazon.com/images/P/0316769487.01.MZZZZZZZ.jpg</td>\n",
              "      <td>http://images.amazon.com/images/P/0316769487.01.LZZZZZZZ.jpg</td>\n",
              "    </tr>\n",
              "    <tr>\n",
              "      <th>105</th>\n",
              "      <td>067976397X</td>\n",
              "      <td>Corelli's Mandolin : A Novel</td>\n",
              "      <td>LOUIS DE BERNIERES</td>\n",
              "      <td>1995</td>\n",
              "      <td>Vintage</td>\n",
              "      <td>http://images.amazon.com/images/P/067976397X.01.THUMBZZZ.jpg</td>\n",
              "      <td>http://images.amazon.com/images/P/067976397X.01.MZZZZZZZ.jpg</td>\n",
              "      <td>http://images.amazon.com/images/P/067976397X.01.LZZZZZZZ.jpg</td>\n",
              "    </tr>\n",
              "    <tr>\n",
              "      <th>...</th>\n",
              "      <td>...</td>\n",
              "      <td>...</td>\n",
              "      <td>...</td>\n",
              "      <td>...</td>\n",
              "      <td>...</td>\n",
              "      <td>...</td>\n",
              "      <td>...</td>\n",
              "      <td>...</td>\n",
              "    </tr>\n",
              "    <tr>\n",
              "      <th>267428</th>\n",
              "      <td>0872205541</td>\n",
              "      <td>The Trial and Death of Socrates (3rd Edition)</td>\n",
              "      <td>Plato</td>\n",
              "      <td>2001</td>\n",
              "      <td>Hackett Pub Co Inc</td>\n",
              "      <td>http://images.amazon.com/images/P/0872205541.01.THUMBZZZ.jpg</td>\n",
              "      <td>http://images.amazon.com/images/P/0872205541.01.MZZZZZZZ.jpg</td>\n",
              "      <td>http://images.amazon.com/images/P/0872205541.01.LZZZZZZZ.jpg</td>\n",
              "    </tr>\n",
              "    <tr>\n",
              "      <th>268067</th>\n",
              "      <td>0312155328</td>\n",
              "      <td>From Bondage: Mercy of a Rude Stream (Mercy of a Rude Stream)</td>\n",
              "      <td>Henry Roth</td>\n",
              "      <td>1997</td>\n",
              "      <td>Picador USA</td>\n",
              "      <td>http://images.amazon.com/images/P/0312155328.01.THUMBZZZ.jpg</td>\n",
              "      <td>http://images.amazon.com/images/P/0312155328.01.MZZZZZZZ.jpg</td>\n",
              "      <td>http://images.amazon.com/images/P/0312155328.01.LZZZZZZZ.jpg</td>\n",
              "    </tr>\n",
              "    <tr>\n",
              "      <th>268736</th>\n",
              "      <td>0312421974</td>\n",
              "      <td>This Side of Brightness: A Novel</td>\n",
              "      <td>Colum McCann</td>\n",
              "      <td>2003</td>\n",
              "      <td>St Martins Pr Special</td>\n",
              "      <td>http://images.amazon.com/images/P/0312421974.01.THUMBZZZ.jpg</td>\n",
              "      <td>http://images.amazon.com/images/P/0312421974.01.MZZZZZZZ.jpg</td>\n",
              "      <td>http://images.amazon.com/images/P/0312421974.01.LZZZZZZZ.jpg</td>\n",
              "    </tr>\n",
              "    <tr>\n",
              "      <th>270914</th>\n",
              "      <td>0751506451</td>\n",
              "      <td>The Maiden (The Morland Dynasty Series)</td>\n",
              "      <td>Cynthia Harrod-Eagles</td>\n",
              "      <td>2001</td>\n",
              "      <td>Little Brown UK Ltd</td>\n",
              "      <td>http://images.amazon.com/images/P/0751506451.01.THUMBZZZ.jpg</td>\n",
              "      <td>http://images.amazon.com/images/P/0751506451.01.MZZZZZZZ.jpg</td>\n",
              "      <td>http://images.amazon.com/images/P/0751506451.01.LZZZZZZZ.jpg</td>\n",
              "    </tr>\n",
              "    <tr>\n",
              "      <th>271071</th>\n",
              "      <td>0439436540</td>\n",
              "      <td>The Time Machine (Scholastic Classics)</td>\n",
              "      <td>H. G. Wells</td>\n",
              "      <td>2004</td>\n",
              "      <td>Scholastic Paperbacks</td>\n",
              "      <td>http://images.amazon.com/images/P/0439436540.01.THUMBZZZ.jpg</td>\n",
              "      <td>http://images.amazon.com/images/P/0439436540.01.MZZZZZZZ.jpg</td>\n",
              "      <td>http://images.amazon.com/images/P/0439436540.01.LZZZZZZZ.jpg</td>\n",
              "    </tr>\n",
              "  </tbody>\n",
              "</table>\n",
              "<p>2008 rows × 8 columns</p>\n",
              "</div>"
            ],
            "text/plain": [
              "              ISBN  ...                                                   Image-URL-L\n",
              "18      0440234743  ...  http://images.amazon.com/images/P/0440234743.01.LZZZZZZZ.jpg\n",
              "44      0553582909  ...  http://images.amazon.com/images/P/0553582909.01.LZZZZZZZ.jpg\n",
              "51      0842342702  ...  http://images.amazon.com/images/P/0842342702.01.LZZZZZZZ.jpg\n",
              "90      0316769487  ...  http://images.amazon.com/images/P/0316769487.01.LZZZZZZZ.jpg\n",
              "105     067976397X  ...  http://images.amazon.com/images/P/067976397X.01.LZZZZZZZ.jpg\n",
              "...            ...  ...                                                           ...\n",
              "267428  0872205541  ...  http://images.amazon.com/images/P/0872205541.01.LZZZZZZZ.jpg\n",
              "268067  0312155328  ...  http://images.amazon.com/images/P/0312155328.01.LZZZZZZZ.jpg\n",
              "268736  0312421974  ...  http://images.amazon.com/images/P/0312421974.01.LZZZZZZZ.jpg\n",
              "270914  0751506451  ...  http://images.amazon.com/images/P/0751506451.01.LZZZZZZZ.jpg\n",
              "271071  0439436540  ...  http://images.amazon.com/images/P/0439436540.01.LZZZZZZZ.jpg\n",
              "\n",
              "[2008 rows x 8 columns]"
            ]
          },
          "metadata": {
            "tags": []
          },
          "execution_count": 11
        }
      ]
    },
    {
      "cell_type": "code",
      "metadata": {
        "colab": {
          "base_uri": "https://localhost:8080/",
          "height": 81
        },
        "id": "vrMnKHkhccAr",
        "outputId": "e3747358-2dc3-4708-beba-92e165af0f1d"
      },
      "source": [
        "Ratings.loc[Ratings['ISBN'] == '0451528557']"
      ],
      "execution_count": null,
      "outputs": [
        {
          "output_type": "execute_result",
          "data": {
            "text/html": [
              "<div>\n",
              "<style scoped>\n",
              "    .dataframe tbody tr th:only-of-type {\n",
              "        vertical-align: middle;\n",
              "    }\n",
              "\n",
              "    .dataframe tbody tr th {\n",
              "        vertical-align: top;\n",
              "    }\n",
              "\n",
              "    .dataframe thead th {\n",
              "        text-align: right;\n",
              "    }\n",
              "</style>\n",
              "<table border=\"1\" class=\"dataframe\">\n",
              "  <thead>\n",
              "    <tr style=\"text-align: right;\">\n",
              "      <th></th>\n",
              "      <th>User-ID</th>\n",
              "      <th>ISBN</th>\n",
              "      <th>Book-Rating</th>\n",
              "    </tr>\n",
              "  </thead>\n",
              "  <tbody>\n",
              "    <tr>\n",
              "      <th>422606</th>\n",
              "      <td>100906</td>\n",
              "      <td>0451528557</td>\n",
              "      <td>9</td>\n",
              "    </tr>\n",
              "  </tbody>\n",
              "</table>\n",
              "</div>"
            ],
            "text/plain": [
              "        User-ID        ISBN  Book-Rating\n",
              "422606   100906  0451528557            9"
            ]
          },
          "metadata": {
            "tags": []
          },
          "execution_count": 12
        }
      ]
    },
    {
      "cell_type": "code",
      "metadata": {
        "id": "kMkU8NOfF9OI",
        "colab": {
          "base_uri": "https://localhost:8080/"
        },
        "outputId": "bd1be147-b296-4794-ea11-f2bd5d0d82ca"
      },
      "source": [
        "#creating 2d matrix with user ids and isbns \n",
        "\n",
        "rating_pivot = Ratings.pivot(index = 'ISBN', columns = 'User-ID', values = 'Book-Rating').fillna(0)\n",
        "rating_matrix = csr_matrix(rating_pivot.values)\n",
        "rating_pivot2=rating_pivot.reset_index()\n",
        "\n",
        "rating_pivot2.index[rating_pivot2['ISBN'] == '0020442602'].tolist()[0]"
      ],
      "execution_count": null,
      "outputs": [
        {
          "output_type": "execute_result",
          "data": {
            "text/plain": [
              "4"
            ]
          },
          "metadata": {
            "tags": []
          },
          "execution_count": 58
        }
      ]
    },
    {
      "cell_type": "code",
      "metadata": {
        "colab": {
          "base_uri": "https://localhost:8080/",
          "height": 133
        },
        "id": "4Lo8n4FsbCBg",
        "outputId": "b00d4cb7-c19c-44de-de61-525e1a9e90e5"
      },
      "source": [
        "|#reseting index beacuse there was an issue when index of books did not match and exceeded the \n",
        "#matrix dimensions\n",
        "Books=Books.reset_index()\n",
        "Books"
      ],
      "execution_count": null,
      "outputs": [
        {
          "output_type": "error",
          "ename": "SyntaxError",
          "evalue": "ignored",
          "traceback": [
            "\u001b[0;36m  File \u001b[0;32m\"<ipython-input-27-09925bf14b8e>\"\u001b[0;36m, line \u001b[0;32m1\u001b[0m\n\u001b[0;31m    |#reseting index beacuse there was an issue when index of books did not match and exceeded the\u001b[0m\n\u001b[0m    ^\u001b[0m\n\u001b[0;31mSyntaxError\u001b[0m\u001b[0;31m:\u001b[0m invalid syntax\n"
          ]
        }
      ]
    },
    {
      "cell_type": "code",
      "metadata": {
        "colab": {
          "base_uri": "https://localhost:8080/",
          "height": 484
        },
        "id": "oXfC29UOO_Gg",
        "outputId": "947f9eca-7b84-4db1-f071-80beeaef718a"
      },
      "source": [
        "#books7k also cleaned up to only have books that are in final Ratings dataframe\n",
        "books7k=books7k[books7k['isbn10'].isin(list(Ratings['ISBN'].unique()))]\n",
        "books7k.head()"
      ],
      "execution_count": null,
      "outputs": [
        {
          "output_type": "execute_result",
          "data": {
            "text/html": [
              "<div>\n",
              "<style scoped>\n",
              "    .dataframe tbody tr th:only-of-type {\n",
              "        vertical-align: middle;\n",
              "    }\n",
              "\n",
              "    .dataframe tbody tr th {\n",
              "        vertical-align: top;\n",
              "    }\n",
              "\n",
              "    .dataframe thead th {\n",
              "        text-align: right;\n",
              "    }\n",
              "</style>\n",
              "<table border=\"1\" class=\"dataframe\">\n",
              "  <thead>\n",
              "    <tr style=\"text-align: right;\">\n",
              "      <th></th>\n",
              "      <th>isbn10</th>\n",
              "      <th>title</th>\n",
              "      <th>description</th>\n",
              "      <th>categories</th>\n",
              "      <th>thumbnail</th>\n",
              "      <th>authors</th>\n",
              "    </tr>\n",
              "  </thead>\n",
              "  <tbody>\n",
              "    <tr>\n",
              "      <th>2</th>\n",
              "      <td>0006163831</td>\n",
              "      <td>The One Tree</td>\n",
              "      <td>Volume Two of Stephen Donaldson's acclaimed second trilogy featuing the compelling anti-hero Thomas Covenant.</td>\n",
              "      <td>American fiction</td>\n",
              "      <td>http://books.google.com/books/content?id=OmQawwEACAAJ&amp;printsec=frontcover&amp;img=1&amp;zoom=1&amp;source=gbs_api</td>\n",
              "      <td>Stephen R. Donaldson</td>\n",
              "    </tr>\n",
              "    <tr>\n",
              "      <th>27</th>\n",
              "      <td>0006512674</td>\n",
              "      <td>Spares</td>\n",
              "      <td>Spares - human clones, the ultimate health insurance. An eye for an eye - but some people are doing all the taking. The story of Jack Randall: burnt-out, dropped out, and way overdrawn at the luck bank. But as caretaker on a Spares Farm, he still has a choice, and it might make a difference.</td>\n",
              "      <td>Human cloning</td>\n",
              "      <td>http://books.google.com/books/content?id=83RrAdP9y5UC&amp;printsec=frontcover&amp;img=1&amp;zoom=1&amp;source=gbs_api</td>\n",
              "      <td>Michael Marshall Smith</td>\n",
              "    </tr>\n",
              "    <tr>\n",
              "      <th>95</th>\n",
              "      <td>0020199856</td>\n",
              "      <td>The Love of the Last Tycoon</td>\n",
              "      <td>Depicts the inner-workings of the Hollywood movie industry and its impact on the fabric of American life.</td>\n",
              "      <td>Fiction</td>\n",
              "      <td>http://books.google.com/books/content?id=3EDbEHca_k8C&amp;printsec=frontcover&amp;img=1&amp;zoom=1&amp;edge=curl&amp;source=gbs_api</td>\n",
              "      <td>F. Scott Fitzgerald</td>\n",
              "    </tr>\n",
              "    <tr>\n",
              "      <th>97</th>\n",
              "      <td>0020360754</td>\n",
              "      <td>Heart Songs and Other Stories</td>\n",
              "      <td>Before she wrote her Pulitzer Prize-winning bestseller The Shipping News, E. Annie Proulx was already producing some of the finest short fiction in the country. Here are her collected stories, including two new works never before anthologized. These stories reverberate with rural tradition, the rites of nature, and the rituals of small-town life. The country is blue-collar New England; the characters are native families and the dispossessed working class, whose heritage is challenged by the neorural bourgeoisie from the city; and the themes are as elemental as the landscape: revenge, malice, greed, passion. Told with skill and profundity and crafted by a master storyteller, these are lean, tough tales of an extraordinary place and its people.</td>\n",
              "      <td>Fiction</td>\n",
              "      <td>http://books.google.com/books/content?id=_K2fswEACAAJ&amp;printsec=frontcover&amp;img=1&amp;zoom=1&amp;source=gbs_api</td>\n",
              "      <td>Annie Proulx</td>\n",
              "    </tr>\n",
              "    <tr>\n",
              "      <th>98</th>\n",
              "      <td>0020442602</td>\n",
              "      <td>The voyage of the Dawn Treader</td>\n",
              "      <td>The \"Dawn Treader\" is the first ship Narnia has seen in centuries. King Caspian has built it for his voyage to find the seven lords, good men whom his evil uncle Mizaz banished when he usurped the throne. The journey takes Edmund, Lucy, and their cousin Eustace to the Eastern Islands, beyond the Silver Sea, toward Aslan's country at the End of the World. Illustrations.</td>\n",
              "      <td>Juvenile Fiction</td>\n",
              "      <td>http://books.google.com/books/content?id=fDD3CfYb70cC&amp;printsec=frontcover&amp;img=1&amp;zoom=1&amp;source=gbs_api</td>\n",
              "      <td>Clive Staples Lewis</td>\n",
              "    </tr>\n",
              "  </tbody>\n",
              "</table>\n",
              "</div>"
            ],
            "text/plain": [
              "        isbn10  ...                 authors\n",
              "2   0006163831  ...    Stephen R. Donaldson\n",
              "27  0006512674  ...  Michael Marshall Smith\n",
              "95  0020199856  ...     F. Scott Fitzgerald\n",
              "97  0020360754  ...            Annie Proulx\n",
              "98  0020442602  ...     Clive Staples Lewis\n",
              "\n",
              "[5 rows x 6 columns]"
            ]
          },
          "metadata": {
            "tags": []
          },
          "execution_count": 15
        }
      ]
    },
    {
      "cell_type": "code",
      "metadata": {
        "id": "yCTpyTIUHGYj",
        "colab": {
          "base_uri": "https://localhost:8080/"
        },
        "outputId": "270427c5-667c-429b-8433-e9f35d55d6db"
      },
      "source": [
        "model_knn=NearestNeighbors(metric='cosine', algorithm='brute', n_neighbors=9)\n",
        "model_knn.fit(rating_matrix)\n",
        "\n",
        "rating_matrix\n",
        "#scipy.sparse.save_npz('rat_matrix.npz', rating_matrix)\n",
        "#your_matrix_back = sparse.load_npz(\"yourmatrix.npz\")"
      ],
      "execution_count": null,
      "outputs": [
        {
          "output_type": "execute_result",
          "data": {
            "text/plain": [
              "<2008x1646 sparse matrix of type '<class 'numpy.float64'>'\n",
              "\twith 6876 stored elements in Compressed Sparse Row format>"
            ]
          },
          "metadata": {
            "tags": []
          },
          "execution_count": 16
        }
      ]
    },
    {
      "cell_type": "code",
      "metadata": {
        "colab": {
          "base_uri": "https://localhost:8080/",
          "height": 1000
        },
        "id": "uDamm_El57NN",
        "outputId": "026fa2ac-a52f-4fbd-aa23-a6e07f4553d8"
      },
      "source": [
        "def recommend(book_title, data, model, n_recommendations ):#we have PROVED that there is an index mismaatch in data and the books so, try to get the index of the book with ISBN==isbn.....can we reindex?made a new pivot with index matching rat_mat\n",
        "    rec_isbn=[]\n",
        "    rec_df=pd.DataFrame()\n",
        "    model.fit(data)\n",
        "    idx=process.extractOne(book_title, Books['Book-Title'])[2]\n",
        "    isbn=Books['ISBN'][idx]\n",
        "    print(isbn)\n",
        "    isbn_ind=rating_pivot2.index[rating_pivot2['ISBN'] == isbn ].tolist()[0]\n",
        "    distances, indices=model.kneighbors(data[isbn_ind], n_neighbors=n_recommendations)\n",
        "    ind=indices.flatten()\n",
        "    print(idx)\n",
        "    for i in ind:\n",
        "      if(i!=idx):\n",
        "        rec_isbn.append(Books['ISBN'][i])\n",
        "      else:\n",
        "        display(books7k.loc[books7k['isbn10'] == Books['ISBN'][i]])\n",
        "    rec_df=books7k[books7k['isbn10'].isin(rec_isbn)]  \n",
        "    print(\"similar books are:\")\n",
        "    return rec_df\n",
        "book_name=input(\"enter the title of a book you liked: \")\n",
        "recommend(book_name, rating_matrix, model_knn,9)\n"
      ],
      "execution_count": null,
      "outputs": [
        {
          "output_type": "stream",
          "text": [
            "enter the title of a book you liked: time machine\n",
            "0451528557\n",
            "1413\n",
            "similar books are:\n"
          ],
          "name": "stdout"
        },
        {
          "output_type": "execute_result",
          "data": {
            "text/html": [
              "<div>\n",
              "<style scoped>\n",
              "    .dataframe tbody tr th:only-of-type {\n",
              "        vertical-align: middle;\n",
              "    }\n",
              "\n",
              "    .dataframe tbody tr th {\n",
              "        vertical-align: top;\n",
              "    }\n",
              "\n",
              "    .dataframe thead th {\n",
              "        text-align: right;\n",
              "    }\n",
              "</style>\n",
              "<table border=\"1\" class=\"dataframe\">\n",
              "  <thead>\n",
              "    <tr style=\"text-align: right;\">\n",
              "      <th></th>\n",
              "      <th>isbn10</th>\n",
              "      <th>title</th>\n",
              "      <th>description</th>\n",
              "      <th>categories</th>\n",
              "      <th>thumbnail</th>\n",
              "      <th>authors</th>\n",
              "    </tr>\n",
              "  </thead>\n",
              "  <tbody>\n",
              "    <tr>\n",
              "      <th>1582</th>\n",
              "      <td>0312876629</td>\n",
              "      <td>Songmaster</td>\n",
              "      <td>An SF classic from the author of Ender's Game. Kidnapped at an early age, the young singer Ansset has been raised in isolation at the mystical retreat called the Songhouse. His life has been filled with music, and having only songs for companions, he develops a voice that is unlike any heard before. Ansset's voice is both a blessing and a curse, for the young Songbird can reflect all the hopes and fears his auidence feels and, by magnifying their emotions, use his voice to heal--or to destroy. When it is discovered that his is the voice that the Emperor has waited decades for, Ansset is summoned to the Imperial Palace on Old Earth. Many fates rest in Ansset's hands, and his songs will soon be put to the test: either to salve the troubled conscience of a conqueror, or drive him, and the universe, into mad chaos. Songmaster is a haunting story of power and love--the tale of the man who would destroy everything he loves to preserve humanity's peace, and the boy who might just sing the world away.</td>\n",
              "      <td>Fiction</td>\n",
              "      <td>http://books.google.com/books/content?id=xkfZlwEACAAJ&amp;printsec=frontcover&amp;img=1&amp;zoom=1&amp;source=gbs_api</td>\n",
              "      <td>Orson Scott Card</td>\n",
              "    </tr>\n",
              "    <tr>\n",
              "      <th>1803</th>\n",
              "      <td>0345407865</td>\n",
              "      <td>The Children of Henry VIII</td>\n",
              "      <td>Recounts the lives of Henry VIII's heirs and the intrigues that arose from their struggle to ascend their father's throne</td>\n",
              "      <td>Biography &amp; Autobiography</td>\n",
              "      <td>http://books.google.com/books/content?id=rKiCmOGUcbgC&amp;printsec=frontcover&amp;img=1&amp;zoom=1&amp;source=gbs_api</td>\n",
              "      <td>Alison Weir</td>\n",
              "    </tr>\n",
              "    <tr>\n",
              "      <th>2127</th>\n",
              "      <td>0375727132</td>\n",
              "      <td>The Dive from Clausen's Pier</td>\n",
              "      <td>When her fiancâe Mike is left paralyzed following a tragic accident, Carrie Bell begins to question her familiar world, from her everyday life in Wisconsin to her relationships, as she sets out to rediscover her own identity.</td>\n",
              "      <td>Fiction</td>\n",
              "      <td>http://books.google.com/books/content?id=x_RlwZo8LMEC&amp;printsec=frontcover&amp;img=1&amp;zoom=1&amp;source=gbs_api</td>\n",
              "      <td>Ann Packer</td>\n",
              "    </tr>\n",
              "    <tr>\n",
              "      <th>2278</th>\n",
              "      <td>0385335970</td>\n",
              "      <td>Dragonfly in Amber</td>\n",
              "      <td>In eighteenth-century Scotland, Claire Randall and her raven-haired daughter, Brianna, return to the majestic hills where Claire recalls the love of her life--gallant warrior James Fraser.</td>\n",
              "      <td>Fiction</td>\n",
              "      <td>http://books.google.com/books/content?id=yYc_PgAACAAJ&amp;printsec=frontcover&amp;img=1&amp;zoom=1&amp;source=gbs_api</td>\n",
              "      <td>Diana Gabaldon</td>\n",
              "    </tr>\n",
              "    <tr>\n",
              "      <th>3224</th>\n",
              "      <td>0500203474</td>\n",
              "      <td>Graphic Design</td>\n",
              "      <td>From its roots in the development of printing, graphic design has evolved as a means of identification, information, and promotion to become a profession and discipline in its own right. This authoritative documentary history begins with the poster and goes on to chart the development of word and image in brochures and magazines, advertising, corporate identity, television, and electronic media, and the impact of technical innovations such as photography and the computer. For the revised edition, a new final chapter covers all the recent international developments in graphic design, including the role of the computer and the Internet in design innovation and globalization. In the last years of the twentieth century, at a time when \"designer products\" and the use of logos grew in importance, the role of graphic designers became more complex, subversive, and sometimes more politicalwitness Oliviero Toscani's notorious advertisements for Benetton. Digital technology cleared the way for an astonishing proliferation of new typefaces, and words began to take second place to typography in a whole range of magazines and books as designers asserted the primacy of their medium. Designers and companies discussed here include Neville Brody, David Carson, Design Writing Research, Edward Fella, Tibor Kalman, Jeffery Keedy, LettError, Pierre di Sciullo, Tomato, Gerard Unger, Cornel Windlin, and a host of others. Over 800 illustrations, 30 in color.</td>\n",
              "      <td>Art</td>\n",
              "      <td>http://books.google.com/books/content?id=GI9tngEACAAJ&amp;printsec=frontcover&amp;img=1&amp;zoom=1&amp;source=gbs_api</td>\n",
              "      <td>Richard Hollis</td>\n",
              "    </tr>\n",
              "    <tr>\n",
              "      <th>3462</th>\n",
              "      <td>0553346113</td>\n",
              "      <td>Seven Plays</td>\n",
              "      <td>Henry is generally well-behaved, but he is occasionally arrogant and vain. Henry is at heart a hard worker, but his frequent bouts of illness hinder his work.</td>\n",
              "      <td>Drama</td>\n",
              "      <td>http://books.google.com/books/content?id=-a0szDa6MksC&amp;printsec=frontcover&amp;img=1&amp;zoom=1&amp;source=gbs_api</td>\n",
              "      <td>Sam Shepard;Joseph Chaikin</td>\n",
              "    </tr>\n",
              "    <tr>\n",
              "      <th>3861</th>\n",
              "      <td>0671662341</td>\n",
              "      <td>Anne Frank Remembered</td>\n",
              "      <td>The reminiscences of Miep Gies, the woman who hid the Frank family in Amsterdam during the Second World War, presents a vivid story of life under Nazi occupation.</td>\n",
              "      <td>History</td>\n",
              "      <td>http://books.google.com/books/content?id=7wO8QDEanr8C&amp;printsec=frontcover&amp;img=1&amp;zoom=1&amp;edge=curl&amp;source=gbs_api</td>\n",
              "      <td>Miep Gies;Alison Leslie Gold</td>\n",
              "    </tr>\n",
              "    <tr>\n",
              "      <th>5349</th>\n",
              "      <td>0836246217</td>\n",
              "      <td>Mary Engelbreit's Home Companion</td>\n",
              "      <td>A guide to decorating with style covers kitchens, windows, walls, children's rooms, and workspaces</td>\n",
              "      <td>Crafts &amp; Hobbies</td>\n",
              "      <td>http://books.google.com/books/content?id=VzIGAAAACAAJ&amp;printsec=frontcover&amp;img=1&amp;zoom=1&amp;source=gbs_api</td>\n",
              "      <td>Mary Engelbreit</td>\n",
              "    </tr>\n",
              "    <tr>\n",
              "      <th>6568</th>\n",
              "      <td>1853260738</td>\n",
              "      <td>Moll Flanders</td>\n",
              "      <td>With an Introduction and Notes by R.T.Jones, Honorary Fellow of the University of York. The novel follows the life of its eponymous heroine, Moll Flanders, through its many vicissitudes, which include her early seduction, careers in crime and prostitution, conviction for theft and transportation to the plantations of Virginia, and her ultimate redemption and prosperity in the New World. 'Moll Flanders' was one of the first social novels to be published in English and draws heavily on Defoe's experience of the topography and social conditions prevailing in the London of the late 17th century. AUTHOR: Born Daniel Foe in London in 1660, Defoe was a prodigious writer on many subjects, producing over 500 books, pamphlets and articles. He is now remembered for his novels, primarily 'The Life and Strange Suprizing Adventures of Robinson Crusoe, of York' and 'The Fortunes and Misfortunes of the Famous Moll Flanders' and is considered to be one of the key figures in establishing the format of the English novel.</td>\n",
              "      <td>Fiction</td>\n",
              "      <td>http://books.google.com/books/content?id=kzuSuZj03P8C&amp;printsec=frontcover&amp;img=1&amp;zoom=1&amp;edge=curl&amp;source=gbs_api</td>\n",
              "      <td>Daniel Defoe</td>\n",
              "    </tr>\n",
              "  </tbody>\n",
              "</table>\n",
              "</div>"
            ],
            "text/plain": [
              "          isbn10  ...                       authors\n",
              "1582  0312876629  ...              Orson Scott Card\n",
              "1803  0345407865  ...                   Alison Weir\n",
              "2127  0375727132  ...                    Ann Packer\n",
              "2278  0385335970  ...                Diana Gabaldon\n",
              "3224  0500203474  ...                Richard Hollis\n",
              "3462  0553346113  ...    Sam Shepard;Joseph Chaikin\n",
              "3861  0671662341  ...  Miep Gies;Alison Leslie Gold\n",
              "5349  0836246217  ...               Mary Engelbreit\n",
              "6568  1853260738  ...                  Daniel Defoe\n",
              "\n",
              "[9 rows x 6 columns]"
            ]
          },
          "metadata": {
            "tags": []
          },
          "execution_count": 61
        }
      ]
    },
    {
      "cell_type": "code",
      "metadata": {
        "id": "TfrHRXWs6EnJ"
      },
      "source": [
        ""
      ],
      "execution_count": null,
      "outputs": []
    },
    {
      "cell_type": "markdown",
      "metadata": {
        "id": "qumrCkAN-LJZ"
      },
      "source": [
        "while most of the recommendations are fiction and similar there are some irrelevant results but might have been rated highly by users."
      ]
    },
    {
      "cell_type": "code",
      "metadata": {
        "id": "IZjmOtFrAsub"
      },
      "source": [
        ""
      ],
      "execution_count": null,
      "outputs": []
    }
  ]
}